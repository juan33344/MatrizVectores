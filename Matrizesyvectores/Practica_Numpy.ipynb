{
  "cells": [
    {
      "cell_type": "markdown",
      "metadata": {
        "id": "ZFr5MI8PR4oj"
      },
      "source": [
        "# [PRACTICA DE NUMPY]\n",
        "## [Curso Python para Ciencia de datos]"
      ]
    },
    {
      "cell_type": "markdown",
      "metadata": {},
      "source": [
        "#### ESTUDIANTE: JUAN JOSE LAURA BAUTISTA"
      ]
    },
    {
      "cell_type": "markdown",
      "metadata": {
        "id": "YEWtfGBPR4om"
      },
      "source": [
        "Los arreglos de numpy son la base de la computación científica en Python\n",
        "- los dataframes de pandas para análisis de datos (Numpy era la unica base hasta pandas 1.5.3)\n",
        "- los datos de entrada o salida para hacer Machine Learning con scikit-learn son arreglos de numpy\n",
        "\n",
        "**Nota:** Es importante familiarizarse con el manejo de arreglos de numpy para poder hacer ciencia de datos con Python e identificar cuando usar un arreglo de numpy o un dataframe de pandas."
      ]
    },
    {
      "cell_type": "markdown",
      "metadata": {
        "id": "3W7vPxdrR4om"
      },
      "source": [
        "**Importe NumPy como np**"
      ]
    },
    {
      "cell_type": "code",
      "execution_count": 1,
      "metadata": {
        "collapsed": true,
        "id": "tasL1-2LR4om"
      },
      "outputs": [],
      "source": [
        "import numpy as np"
      ]
    },
    {
      "cell_type": "markdown",
      "metadata": {
        "id": "gHOlDqX3R4on"
      },
      "source": [
        "**Cree un arreglo de ceros de 10 elementos**"
      ]
    },
    {
      "cell_type": "code",
      "execution_count": 2,
      "metadata": {},
      "outputs": [],
      "source": [
        "arreglo_ceros = np.zeros(10)\n"
      ]
    },
    {
      "cell_type": "code",
      "execution_count": 3,
      "metadata": {
        "id": "EzogSe1kR4on"
      },
      "outputs": [
        {
          "data": {
            "text/plain": [
              "array([0., 0., 0., 0., 0., 0., 0., 0., 0., 0.])"
            ]
          },
          "execution_count": 3,
          "metadata": {},
          "output_type": "execute_result"
        }
      ],
      "source": [
        "arreglo_ceros\n"
      ]
    },
    {
      "cell_type": "markdown",
      "metadata": {
        "id": "gZSQ4xCUR4oo"
      },
      "source": [
        "**Cree un arreglo de unos de 10 elementos**"
      ]
    },
    {
      "cell_type": "code",
      "execution_count": 4,
      "metadata": {
        "id": "7ThY_SIaR4oo"
      },
      "outputs": [],
      "source": [
        "arreglo_unos = np.ones(10)"
      ]
    },
    {
      "cell_type": "code",
      "execution_count": 5,
      "metadata": {
        "id": "NJS0jtkMR4oo",
        "outputId": "e0eb0e04-dcda-4ff9-83ee-fe53f2a56a4c"
      },
      "outputs": [
        {
          "data": {
            "text/plain": [
              "array([1., 1., 1., 1., 1., 1., 1., 1., 1., 1.])"
            ]
          },
          "execution_count": 5,
          "metadata": {},
          "output_type": "execute_result"
        }
      ],
      "source": [
        "arreglo_unos"
      ]
    },
    {
      "cell_type": "markdown",
      "metadata": {
        "id": "PzCMzstqR4oo"
      },
      "source": [
        "**Cree un arreglo de cincos de 10 elementos**"
      ]
    },
    {
      "cell_type": "code",
      "execution_count": 6,
      "metadata": {
        "id": "Nh1NVFAQR4op"
      },
      "outputs": [],
      "source": [
        "arreglo_cincos = np.ones(10) * 5\n"
      ]
    },
    {
      "cell_type": "code",
      "execution_count": 7,
      "metadata": {
        "id": "6nx7Hp0AR4op",
        "outputId": "cb320ffb-12aa-43da-e0d0-f7b7d6d1b640"
      },
      "outputs": [
        {
          "data": {
            "text/plain": [
              "array([5., 5., 5., 5., 5., 5., 5., 5., 5., 5.])"
            ]
          },
          "execution_count": 7,
          "metadata": {},
          "output_type": "execute_result"
        }
      ],
      "source": [
        "arreglo_cincos"
      ]
    },
    {
      "cell_type": "markdown",
      "metadata": {
        "id": "klVay-rcR4op"
      },
      "source": [
        "**Cree un arreglo de números enteros Del 10 al 50 (incluido)**"
      ]
    },
    {
      "cell_type": "code",
      "execution_count": 8,
      "metadata": {
        "id": "rmZ21tM9R4op"
      },
      "outputs": [],
      "source": [
        "arreglo_10_50 = np.arange(10, 51)\n"
      ]
    },
    {
      "cell_type": "code",
      "execution_count": 9,
      "metadata": {
        "id": "fNl4yNWWR4op",
        "outputId": "2d335278-8b2f-4e4c-dd60-b4c1a6db642c"
      },
      "outputs": [
        {
          "data": {
            "text/plain": [
              "array([10, 11, 12, 13, 14, 15, 16, 17, 18, 19, 20, 21, 22, 23, 24, 25, 26,\n",
              "       27, 28, 29, 30, 31, 32, 33, 34, 35, 36, 37, 38, 39, 40, 41, 42, 43,\n",
              "       44, 45, 46, 47, 48, 49, 50])"
            ]
          },
          "execution_count": 9,
          "metadata": {},
          "output_type": "execute_result"
        }
      ],
      "source": [
        "arreglo_10_50"
      ]
    },
    {
      "cell_type": "markdown",
      "metadata": {
        "id": "jITNEiElR4op"
      },
      "source": [
        "**Cree un arreglo de los números enteros pares Del 10 al 50 (incluidos)**"
      ]
    },
    {
      "cell_type": "code",
      "execution_count": 10,
      "metadata": {
        "id": "6PL6n1KGR4op"
      },
      "outputs": [],
      "source": [
        "arreglo_pares = np.arange(10, 51, 2)"
      ]
    },
    {
      "cell_type": "code",
      "execution_count": 11,
      "metadata": {
        "id": "fnHhuHNwR4op",
        "outputId": "faac7efe-40ab-44a3-f906-ff12d5209d42"
      },
      "outputs": [
        {
          "data": {
            "text/plain": [
              "array([10, 12, 14, 16, 18, 20, 22, 24, 26, 28, 30, 32, 34, 36, 38, 40, 42,\n",
              "       44, 46, 48, 50])"
            ]
          },
          "execution_count": 11,
          "metadata": {},
          "output_type": "execute_result"
        }
      ],
      "source": [
        "arreglo_pares"
      ]
    },
    {
      "cell_type": "markdown",
      "metadata": {
        "id": "Z9_VSqmtR4op"
      },
      "source": [
        "**Crear una matrix de 3x3 con valores del 0 al 8 (incluido)**"
      ]
    },
    {
      "cell_type": "code",
      "execution_count": 12,
      "metadata": {
        "id": "99gpP2xfR4op"
      },
      "outputs": [],
      "source": [
        "matriz_3x3 = np.arange(9).reshape(3, 3)"
      ]
    },
    {
      "cell_type": "code",
      "execution_count": 13,
      "metadata": {
        "id": "FFbmp6doR4op",
        "outputId": "f6f96c3f-9253-46ba-c41f-f9e6192fb56e"
      },
      "outputs": [
        {
          "data": {
            "text/plain": [
              "array([[0, 1, 2],\n",
              "       [3, 4, 5],\n",
              "       [6, 7, 8]])"
            ]
          },
          "execution_count": 13,
          "metadata": {},
          "output_type": "execute_result"
        }
      ],
      "source": [
        "matriz_3x3"
      ]
    },
    {
      "cell_type": "markdown",
      "metadata": {
        "id": "wqE_AKRZR4op"
      },
      "source": [
        "**Crear la matriz identidad de 3x3**"
      ]
    },
    {
      "cell_type": "code",
      "execution_count": 14,
      "metadata": {
        "id": "kQGL8GviR4op"
      },
      "outputs": [],
      "source": [
        "matriz2_3x3 = np.eye(3)\n"
      ]
    },
    {
      "cell_type": "code",
      "execution_count": 15,
      "metadata": {
        "id": "AKsLm56CR4oq",
        "outputId": "7f10e103-685f-4288-ae12-baa83e1bf605"
      },
      "outputs": [
        {
          "data": {
            "text/plain": [
              "array([[1., 0., 0.],\n",
              "       [0., 1., 0.],\n",
              "       [0., 0., 1.]])"
            ]
          },
          "execution_count": 15,
          "metadata": {},
          "output_type": "execute_result"
        }
      ],
      "source": [
        "matriz2_3x3"
      ]
    },
    {
      "cell_type": "markdown",
      "metadata": {
        "id": "Drfabo1VR4oq"
      },
      "source": [
        "**Use NumPy para generar un numero aleatorio entre 0 y 1**"
      ]
    },
    {
      "cell_type": "code",
      "execution_count": 16,
      "metadata": {
        "id": "06aWPM0YR4oq"
      },
      "outputs": [],
      "source": [
        "numero_aleatorio = np.random.rand()"
      ]
    },
    {
      "cell_type": "code",
      "execution_count": 17,
      "metadata": {
        "id": "k85sBjf1R4oq",
        "outputId": "2722d92c-0824-496b-9d3e-4b66b25bbebd"
      },
      "outputs": [
        {
          "data": {
            "text/plain": [
              "0.48233763328393675"
            ]
          },
          "execution_count": 17,
          "metadata": {},
          "output_type": "execute_result"
        }
      ],
      "source": [
        "numero_aleatorio"
      ]
    },
    {
      "cell_type": "markdown",
      "metadata": {
        "id": "LMgc9MgRR4oq"
      },
      "source": [
        "**Use NumPy para generar un arreglo de 25 números aleatorios que sean de la distribucion normal estandar**"
      ]
    },
    {
      "cell_type": "code",
      "execution_count": 18,
      "metadata": {
        "id": "7N90jhDzR4oq"
      },
      "outputs": [],
      "source": [
        "arreglo_normal = np.random.randn(25)"
      ]
    },
    {
      "cell_type": "code",
      "execution_count": 19,
      "metadata": {
        "id": "WWUIpvrhR4oq",
        "outputId": "a584b47b-8f3b-4c3c-efb8-331744a8a2cd"
      },
      "outputs": [
        {
          "data": {
            "text/plain": [
              "array([ 0.26262051,  0.27631988,  0.51416409, -0.92630619,  1.53139283,\n",
              "        0.58625943,  0.49572102, -1.26548848,  0.03407852, -0.04945932,\n",
              "       -0.14253301, -0.76028713,  0.3147915 , -1.01685645,  0.67518112,\n",
              "       -0.86038708,  0.24401866,  0.45017104,  0.4636985 ,  0.66761105,\n",
              "       -0.69488278, -0.94157392,  0.45715386, -0.92346076,  0.17813771])"
            ]
          },
          "execution_count": 19,
          "metadata": {},
          "output_type": "execute_result"
        }
      ],
      "source": [
        "arreglo_normal"
      ]
    },
    {
      "cell_type": "markdown",
      "metadata": {
        "id": "ySGNd11qR4oq"
      },
      "source": [
        "**Cree un arreglo de 20 elementos linealmente espaciados entre 0 y 1:**"
      ]
    },
    {
      "cell_type": "code",
      "execution_count": 20,
      "metadata": {
        "id": "FDQ0ETvjR4oq"
      },
      "outputs": [],
      "source": [
        "arreglo_lineal = np.linspace(0, 1, 20)"
      ]
    },
    {
      "cell_type": "code",
      "execution_count": 21,
      "metadata": {
        "id": "EZ1GEVcuR4oq",
        "outputId": "b61d5866-6613-493d-cf6d-480602320595"
      },
      "outputs": [
        {
          "data": {
            "text/plain": [
              "array([0.        , 0.05263158, 0.10526316, 0.15789474, 0.21052632,\n",
              "       0.26315789, 0.31578947, 0.36842105, 0.42105263, 0.47368421,\n",
              "       0.52631579, 0.57894737, 0.63157895, 0.68421053, 0.73684211,\n",
              "       0.78947368, 0.84210526, 0.89473684, 0.94736842, 1.        ])"
            ]
          },
          "execution_count": 21,
          "metadata": {},
          "output_type": "execute_result"
        }
      ],
      "source": [
        "arreglo_lineal"
      ]
    },
    {
      "cell_type": "markdown",
      "metadata": {
        "id": "oFj99vwIR4oq"
      },
      "source": [
        "**Indexacion y seleccion con Numpy**\n",
        "\n",
        "Crear una matriz con numeros del 1 al 25 y que tenga forma de 5x5\n",
        "\n"
      ]
    },
    {
      "cell_type": "code",
      "execution_count": 22,
      "metadata": {
        "id": "P2Y6TwYtR4oq"
      },
      "outputs": [],
      "source": [
        "matriz_5x5 = np.arange(1, 26).reshape(5, 5)\n",
        "\n"
      ]
    },
    {
      "cell_type": "code",
      "execution_count": 23,
      "metadata": {
        "id": "VzWQ1GU0R4oq",
        "outputId": "f2d423fe-487e-40f6-f00a-e385bdc9b805"
      },
      "outputs": [
        {
          "data": {
            "text/plain": [
              "array([[ 1,  2,  3,  4,  5],\n",
              "       [ 6,  7,  8,  9, 10],\n",
              "       [11, 12, 13, 14, 15],\n",
              "       [16, 17, 18, 19, 20],\n",
              "       [21, 22, 23, 24, 25]])"
            ]
          },
          "execution_count": 23,
          "metadata": {},
          "output_type": "execute_result"
        }
      ],
      "source": [
        "matriz_5x5"
      ]
    },
    {
      "cell_type": "markdown",
      "metadata": {
        "id": "lgTK8W0BR4oq"
      },
      "source": [
        "replique los resultados que siguen:\n"
      ]
    },
    {
      "cell_type": "code",
      "execution_count": 24,
      "metadata": {
        "id": "6TsYu-o5R4ot"
      },
      "outputs": [],
      "source": [
        "resultado = matriz_5x5[2::1, 1:]"
      ]
    },
    {
      "cell_type": "code",
      "execution_count": 25,
      "metadata": {
        "collapsed": true,
        "id": "zGs4Y9vtR4ot",
        "outputId": "0c9b2c68-0e6a-494a-a381-1d7554185e23"
      },
      "outputs": [
        {
          "data": {
            "text/plain": [
              "array([[12, 13, 14, 15],\n",
              "       [17, 18, 19, 20],\n",
              "       [22, 23, 24, 25]])"
            ]
          },
          "execution_count": 25,
          "metadata": {},
          "output_type": "execute_result"
        }
      ],
      "source": [
        "resultado"
      ]
    },
    {
      "cell_type": "code",
      "execution_count": 65,
      "metadata": {
        "id": "FU3DIFWZR4ot"
      },
      "outputs": [
        {
          "data": {
            "text/plain": [
              "np.int64(20)"
            ]
          },
          "execution_count": 65,
          "metadata": {},
          "output_type": "execute_result"
        }
      ],
      "source": [
        "\n",
        "matriz_5x5[3, 4]\n"
      ]
    },
    {
      "cell_type": "code",
      "execution_count": null,
      "metadata": {
        "id": "JLDfLaDiR4ot"
      },
      "outputs": [
        {
          "data": {
            "text/plain": [
              "array([[ 2],\n",
              "       [ 7],\n",
              "       [12]])"
            ]
          },
          "execution_count": 60,
          "metadata": {},
          "output_type": "execute_result"
        }
      ],
      "source": [
        "\n",
        "matriz3 = matriz_5x5[0:3, 1].reshape(-1, 1)"
      ]
    },
    {
      "cell_type": "code",
      "execution_count": 63,
      "metadata": {
        "id": "ontE8SOUR4ou"
      },
      "outputs": [
        {
          "data": {
            "text/plain": [
              "array([21, 22, 23, 24, 25])"
            ]
          },
          "execution_count": 63,
          "metadata": {},
          "output_type": "execute_result"
        }
      ],
      "source": [
        "matriz_5x5[4, :]"
      ]
    },
    {
      "cell_type": "code",
      "execution_count": 64,
      "metadata": {
        "id": "Ev7Use8rR4ou"
      },
      "outputs": [
        {
          "data": {
            "text/plain": [
              "array([[17, 18, 19, 20],\n",
              "       [22, 23, 24, 25]])"
            ]
          },
          "execution_count": 64,
          "metadata": {},
          "output_type": "execute_result"
        }
      ],
      "source": [
        "matriz_5x5[3:5, 1:]"
      ]
    },
    {
      "cell_type": "markdown",
      "metadata": {
        "id": "ZdJVaOviR4ou"
      },
      "source": [
        "**Obtenga la suma de todos los valores de la matriz**"
      ]
    },
    {
      "cell_type": "code",
      "execution_count": 30,
      "metadata": {
        "id": "duhW1nVAR4ou"
      },
      "outputs": [],
      "source": [
        "suma_total = matriz_5x5.sum()"
      ]
    },
    {
      "cell_type": "code",
      "execution_count": 66,
      "metadata": {
        "id": "YqwFlcsvR4ou",
        "outputId": "abab0f29-b1a4-48d6-a48b-6c0b8491ffaa"
      },
      "outputs": [
        {
          "data": {
            "text/plain": [
              "np.int64(325)"
            ]
          },
          "execution_count": 66,
          "metadata": {},
          "output_type": "execute_result"
        }
      ],
      "source": [
        "suma_total"
      ]
    },
    {
      "cell_type": "markdown",
      "metadata": {
        "id": "9Oh4hzTuR4ou"
      },
      "source": [
        "**Obtenga la desviación estándar de los valores de la matriz**"
      ]
    },
    {
      "cell_type": "code",
      "execution_count": 67,
      "metadata": {
        "id": "mOdhvigmR4ou"
      },
      "outputs": [],
      "source": [
        "Desviacion = matriz_5x5.std()"
      ]
    },
    {
      "cell_type": "code",
      "execution_count": 68,
      "metadata": {
        "id": "q2PKUxmAR4ou",
        "outputId": "6a426d96-bcbe-453e-b79a-3e0082972181"
      },
      "outputs": [
        {
          "data": {
            "text/plain": [
              "np.float64(7.211102550927978)"
            ]
          },
          "execution_count": 68,
          "metadata": {},
          "output_type": "execute_result"
        }
      ],
      "source": [
        "Desviacion"
      ]
    },
    {
      "cell_type": "markdown",
      "metadata": {
        "id": "a1WoRIM6R4ou"
      },
      "source": [
        "**Obtener la suma de cada una de las columnas de la matriz**"
      ]
    },
    {
      "cell_type": "code",
      "execution_count": 71,
      "metadata": {
        "id": "LwsKty9oR4ou"
      },
      "outputs": [],
      "source": [
        "sumaColumna = matriz_5x5.sum(axis=0)"
      ]
    },
    {
      "cell_type": "code",
      "execution_count": 72,
      "metadata": {
        "id": "SBOI2egkR4ou",
        "outputId": "b40eecc8-71a8-4fe9-e340-0a66ed643371"
      },
      "outputs": [
        {
          "data": {
            "text/plain": [
              "array([55, 60, 65, 70, 75])"
            ]
          },
          "execution_count": 72,
          "metadata": {},
          "output_type": "execute_result"
        }
      ],
      "source": [
        "sumaColumna"
      ]
    }
  ],
  "metadata": {
    "colab": {
      "provenance": []
    },
    "kernelspec": {
      "display_name": "Python 3.10 (Laragon)",
      "language": "python",
      "name": "laragon310"
    },
    "language_info": {
      "codemirror_mode": {
        "name": "ipython",
        "version": 3
      },
      "file_extension": ".py",
      "mimetype": "text/x-python",
      "name": "python",
      "nbconvert_exporter": "python",
      "pygments_lexer": "ipython3",
      "version": "3.10.6"
    },
    "toc": {
      "base_numbering": 1,
      "nav_menu": {},
      "number_sections": true,
      "sideBar": true,
      "skip_h1_title": false,
      "title_cell": "Contenido",
      "title_sidebar": "Contenido",
      "toc_cell": true,
      "toc_position": {},
      "toc_section_display": true,
      "toc_window_display": false
    },
    "varInspector": {
      "cols": {
        "lenName": 16,
        "lenType": 16,
        "lenVar": 40
      },
      "kernels_config": {
        "python": {
          "delete_cmd_postfix": "",
          "delete_cmd_prefix": "del ",
          "library": "var_list.py",
          "varRefreshCmd": "print(var_dic_list())"
        },
        "r": {
          "delete_cmd_postfix": ") ",
          "delete_cmd_prefix": "rm(",
          "library": "var_list.r",
          "varRefreshCmd": "cat(var_dic_list()) "
        }
      },
      "types_to_exclude": [
        "module",
        "function",
        "builtin_function_or_method",
        "instance",
        "_Feature"
      ],
      "window_display": false
    }
  },
  "nbformat": 4,
  "nbformat_minor": 0
}
