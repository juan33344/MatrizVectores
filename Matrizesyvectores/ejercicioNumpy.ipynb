{
 "cells": [
  {
   "cell_type": "markdown",
   "id": "3bf62dc7",
   "metadata": {},
   "source": [
    "#Ejwecicio con NUMPY\n",
    "\n",
    "utilizar el paquete  NUMPY para realizar los ejercicios"
   ]
  },
  {
   "cell_type": "code",
   "execution_count": 1,
   "id": "65e264d0",
   "metadata": {},
   "outputs": [],
   "source": [
    "import numpy as np"
   ]
  },
  {
   "cell_type": "code",
   "execution_count": 2,
   "id": "36e047f7",
   "metadata": {},
   "outputs": [],
   "source": [
    "import matplotlib.pyplot as plt"
   ]
  },
  {
   "cell_type": "markdown",
   "id": "9ef1b792",
   "metadata": {},
   "source": [
    "#Ejercicio 1\n",
    "#crear un arreglo a partir de una lista de python"
   ]
  },
  {
   "cell_type": "code",
   "execution_count": 3,
   "id": "e1983c88",
   "metadata": {},
   "outputs": [
    {
     "name": "stdout",
     "output_type": "stream",
     "text": [
      "[25 23 34 65 21]\n"
     ]
    }
   ],
   "source": [
    "lista = [25, 23, 34, 65, 21]\n",
    "arr = np.array(lista)\n",
    "print(arr)"
   ]
  },
  {
   "cell_type": "markdown",
   "id": "81df52c8",
   "metadata": {},
   "source": [
    "##Ejercicio 2:\n",
    "\n",
    "###Generar una Matriz a partir de una lista 2d"
   ]
  },
  {
   "cell_type": "code",
   "execution_count": 4,
   "id": "dca7f1c5",
   "metadata": {},
   "outputs": [
    {
     "name": "stdout",
     "output_type": "stream",
     "text": [
      "[[1 2 3]\n",
      " [9 5 6]\n",
      " [8 7 4]]\n"
     ]
    }
   ],
   "source": [
    "lista =[[1, 2, 3], [9, 5, 6],[8,7,4]]\n",
    "matriz = np.array(lista)\n",
    "print(matriz)"
   ]
  },
  {
   "cell_type": "markdown",
   "id": "b9548f3d",
   "metadata": {},
   "source": [
    "Ejercicio 3:\n",
    "#Visualizar el tamaño de la matriz"
   ]
  },
  {
   "cell_type": "code",
   "execution_count": 5,
   "id": "efb14f1d",
   "metadata": {},
   "outputs": [
    {
     "data": {
      "text/plain": [
       "(3, 3)"
      ]
     },
     "execution_count": 5,
     "metadata": {},
     "output_type": "execute_result"
    }
   ],
   "source": [
    "matriz.shape"
   ]
  },
  {
   "cell_type": "markdown",
   "id": "79f84474",
   "metadata": {},
   "source": [
    "Ejercicio 4:\n",
    "Visualizar el tamaño de la matriz"
   ]
  },
  {
   "cell_type": "code",
   "execution_count": 6,
   "id": "d9b4af2e",
   "metadata": {},
   "outputs": [
    {
     "data": {
      "text/plain": [
       "2"
      ]
     },
     "execution_count": 6,
     "metadata": {},
     "output_type": "execute_result"
    }
   ],
   "source": [
    "\n",
    "matriz.ndim"
   ]
  },
  {
   "cell_type": "markdown",
   "id": "18324b54",
   "metadata": {},
   "source": [
    "Ejercicio 5:\n",
    "Visualizar el tipo del dato de la matriz"
   ]
  },
  {
   "cell_type": "code",
   "execution_count": 7,
   "id": "55b61928",
   "metadata": {},
   "outputs": [
    {
     "data": {
      "text/plain": [
       "dtype('int64')"
      ]
     },
     "execution_count": 7,
     "metadata": {},
     "output_type": "execute_result"
    }
   ],
   "source": [
    "matriz.dtype"
   ]
  },
  {
   "cell_type": "markdown",
   "id": "b133d00e",
   "metadata": {},
   "source": [
    "Ejercico 6:\n",
    "Visualizar la cantidad total de datos de la matriz"
   ]
  },
  {
   "cell_type": "code",
   "execution_count": 8,
   "id": "2ca462db",
   "metadata": {},
   "outputs": [
    {
     "data": {
      "text/plain": [
       "9"
      ]
     },
     "execution_count": 8,
     "metadata": {},
     "output_type": "execute_result"
    }
   ],
   "source": [
    "matriz.size"
   ]
  },
  {
   "cell_type": "markdown",
   "id": "b93e7515",
   "metadata": {},
   "source": [
    "Ejercicio 7:\n",
    "cambiar el tipo de dato de la matriz a int16"
   ]
  },
  {
   "cell_type": "code",
   "execution_count": 9,
   "id": "f646024b",
   "metadata": {},
   "outputs": [
    {
     "name": "stdout",
     "output_type": "stream",
     "text": [
      "[[1 2 3]\n",
      " [9 5 6]\n",
      " [8 7 4]]\n"
     ]
    }
   ],
   "source": [
    "matriz=np.array(lista, dtype=np.int16)\n",
    "print(matriz)"
   ]
  },
  {
   "cell_type": "markdown",
   "id": "7f18209e",
   "metadata": {},
   "source": [
    "Ejercicio 8:\n",
    "Generar una matriz inicializada con ceros(0)"
   ]
  },
  {
   "cell_type": "code",
   "execution_count": 10,
   "id": "7861a550",
   "metadata": {},
   "outputs": [
    {
     "data": {
      "text/plain": [
       "array([[0., 0., 0., 0., 0.],\n",
       "       [0., 0., 0., 0., 0.],\n",
       "       [0., 0., 0., 0., 0.],\n",
       "       [0., 0., 0., 0., 0.]])"
      ]
     },
     "execution_count": 10,
     "metadata": {},
     "output_type": "execute_result"
    }
   ],
   "source": [
    "Mcero  = np.zeros((4, 5))\n",
    "Mcero"
   ]
  },
  {
   "cell_type": "markdown",
   "id": "c80400a7",
   "metadata": {},
   "source": [
    "Ejercicio 9:\n",
    "Generar una matriz inicializando con un matriz de uno(1) "
   ]
  },
  {
   "cell_type": "code",
   "execution_count": 11,
   "id": "9bf8d0c5",
   "metadata": {},
   "outputs": [
    {
     "data": {
      "text/plain": [
       "array([[1., 1., 1., 1., 1., 1.],\n",
       "       [1., 1., 1., 1., 1., 1.],\n",
       "       [1., 1., 1., 1., 1., 1.],\n",
       "       [1., 1., 1., 1., 1., 1.],\n",
       "       [1., 1., 1., 1., 1., 1.]])"
      ]
     },
     "execution_count": 11,
     "metadata": {},
     "output_type": "execute_result"
    }
   ],
   "source": [
    "Munos = np.ones((5, 6))\n",
    "Munos"
   ]
  },
  {
   "cell_type": "markdown",
   "id": "9c790987",
   "metadata": {},
   "source": [
    "Ejercicio 10:\n",
    "Generar un matriz con cualquier valor de 3x4"
   ]
  },
  {
   "cell_type": "code",
   "execution_count": 12,
   "id": "df960f4b",
   "metadata": {},
   "outputs": [
    {
     "data": {
      "text/plain": [
       "array([[8.97065712e-312, 2.81617418e-322, 0.00000000e+000,\n",
       "        0.00000000e+000],\n",
       "       [8.95482224e-312, 2.42336543e-057, 4.71752385e-090,\n",
       "        2.95066500e+179],\n",
       "       [1.26141905e-076, 8.69520805e-071, 6.48224659e+170,\n",
       "        4.93432906e+257]])"
      ]
     },
     "execution_count": 12,
     "metadata": {},
     "output_type": "execute_result"
    }
   ],
   "source": [
    "np.empty((3,4))\n"
   ]
  },
  {
   "cell_type": "markdown",
   "id": "11d3091a",
   "metadata": {},
   "source": [
    "Ejercicio 11:\n",
    "Crear un arry con los valores del uno al nueve (1,9)\n"
   ]
  },
  {
   "cell_type": "code",
   "execution_count": 13,
   "id": "0eeb11d9",
   "metadata": {},
   "outputs": [
    {
     "data": {
      "text/plain": [
       "array([0, 1, 2, 3, 4, 5, 6, 7, 8, 9])"
      ]
     },
     "execution_count": 13,
     "metadata": {},
     "output_type": "execute_result"
    }
   ],
   "source": [
    "arreglo = np.arange((10))\n",
    "arreglo"
   ]
  },
  {
   "cell_type": "markdown",
   "id": "fbdcdb74",
   "metadata": {},
   "source": [
    "Ejercicio 12:\n",
    "Crear un Matris 2d de tamaño 2x5 con los valores del 0 al 9"
   ]
  },
  {
   "cell_type": "code",
   "execution_count": 14,
   "id": "65cd3ac2",
   "metadata": {},
   "outputs": [
    {
     "data": {
      "text/plain": [
       "array([[0, 1, 2, 3, 4],\n",
       "       [5, 6, 7, 8, 9]])"
      ]
     },
     "execution_count": 14,
     "metadata": {},
     "output_type": "execute_result"
    }
   ],
   "source": [
    "np.arange(10).reshape((2, 5))"
   ]
  },
  {
   "cell_type": "markdown",
   "id": "bf2ee0f7",
   "metadata": {},
   "source": [
    "## Ejercicio 13:\n",
    "### Gerar una array con los valores del 10 al 20, que vaya de 2 en 2 [10,12,14]"
   ]
  },
  {
   "cell_type": "code",
   "execution_count": 15,
   "id": "5dff7b1a",
   "metadata": {},
   "outputs": [
    {
     "data": {
      "text/plain": [
       "array([10, 12, 14, 16, 18, 20])"
      ]
     },
     "execution_count": 15,
     "metadata": {},
     "output_type": "execute_result"
    }
   ],
   "source": [
    "#arange(inicio,final+1,paso a paso)\n",
    "np.arange(10,21,2)"
   ]
  },
  {
   "cell_type": "markdown",
   "id": "99066a39",
   "metadata": {},
   "source": [
    "## Ejercicio 14:\n",
    "### Generar una matriz con los valores entre 10 y 20"
   ]
  },
  {
   "cell_type": "code",
   "execution_count": 16,
   "id": "1030c790",
   "metadata": {},
   "outputs": [
    {
     "data": {
      "text/plain": [
       "array([10.        , 10.1010101 , 10.2020202 , 10.3030303 , 10.4040404 ,\n",
       "       10.50505051, 10.60606061, 10.70707071, 10.80808081, 10.90909091,\n",
       "       11.01010101, 11.11111111, 11.21212121, 11.31313131, 11.41414141,\n",
       "       11.51515152, 11.61616162, 11.71717172, 11.81818182, 11.91919192,\n",
       "       12.02020202, 12.12121212, 12.22222222, 12.32323232, 12.42424242,\n",
       "       12.52525253, 12.62626263, 12.72727273, 12.82828283, 12.92929293,\n",
       "       13.03030303, 13.13131313, 13.23232323, 13.33333333, 13.43434343,\n",
       "       13.53535354, 13.63636364, 13.73737374, 13.83838384, 13.93939394,\n",
       "       14.04040404, 14.14141414, 14.24242424, 14.34343434, 14.44444444,\n",
       "       14.54545455, 14.64646465, 14.74747475, 14.84848485, 14.94949495,\n",
       "       15.05050505, 15.15151515, 15.25252525, 15.35353535, 15.45454545,\n",
       "       15.55555556, 15.65656566, 15.75757576, 15.85858586, 15.95959596,\n",
       "       16.06060606, 16.16161616, 16.26262626, 16.36363636, 16.46464646,\n",
       "       16.56565657, 16.66666667, 16.76767677, 16.86868687, 16.96969697,\n",
       "       17.07070707, 17.17171717, 17.27272727, 17.37373737, 17.47474747,\n",
       "       17.57575758, 17.67676768, 17.77777778, 17.87878788, 17.97979798,\n",
       "       18.08080808, 18.18181818, 18.28282828, 18.38383838, 18.48484848,\n",
       "       18.58585859, 18.68686869, 18.78787879, 18.88888889, 18.98989899,\n",
       "       19.09090909, 19.19191919, 19.29292929, 19.39393939, 19.49494949,\n",
       "       19.5959596 , 19.6969697 , 19.7979798 , 19.8989899 , 20.        ])"
      ]
     },
     "execution_count": 16,
     "metadata": {},
     "output_type": "execute_result"
    }
   ],
   "source": [
    "np.linspace(10, 20, 100) "
   ]
  },
  {
   "cell_type": "markdown",
   "id": "be982e62",
   "metadata": {},
   "source": [
    "## Ejercicio 15:\n",
    "### Generar un array con 100 numeros entre 0 y 2 2pi"
   ]
  },
  {
   "cell_type": "code",
   "execution_count": 17,
   "id": "3147944f",
   "metadata": {},
   "outputs": [
    {
     "data": {
      "text/plain": [
       "array([0.        , 0.06346652, 0.12693304, 0.19039955, 0.25386607,\n",
       "       0.31733259, 0.38079911, 0.44426563, 0.50773215, 0.57119866,\n",
       "       0.63466518, 0.6981317 , 0.76159822, 0.82506474, 0.88853126,\n",
       "       0.95199777, 1.01546429, 1.07893081, 1.14239733, 1.20586385,\n",
       "       1.26933037, 1.33279688, 1.3962634 , 1.45972992, 1.52319644,\n",
       "       1.58666296, 1.65012947, 1.71359599, 1.77706251, 1.84052903,\n",
       "       1.90399555, 1.96746207, 2.03092858, 2.0943951 , 2.15786162,\n",
       "       2.22132814, 2.28479466, 2.34826118, 2.41172769, 2.47519421,\n",
       "       2.53866073, 2.60212725, 2.66559377, 2.72906028, 2.7925268 ,\n",
       "       2.85599332, 2.91945984, 2.98292636, 3.04639288, 3.10985939,\n",
       "       3.17332591, 3.23679243, 3.30025895, 3.36372547, 3.42719199,\n",
       "       3.4906585 , 3.55412502, 3.61759154, 3.68105806, 3.74452458,\n",
       "       3.8079911 , 3.87145761, 3.93492413, 3.99839065, 4.06185717,\n",
       "       4.12532369, 4.1887902 , 4.25225672, 4.31572324, 4.37918976,\n",
       "       4.44265628, 4.5061228 , 4.56958931, 4.63305583, 4.69652235,\n",
       "       4.75998887, 4.82345539, 4.88692191, 4.95038842, 5.01385494,\n",
       "       5.07732146, 5.14078798, 5.2042545 , 5.26772102, 5.33118753,\n",
       "       5.39465405, 5.45812057, 5.52158709, 5.58505361, 5.64852012,\n",
       "       5.71198664, 5.77545316, 5.83891968, 5.9023862 , 5.96585272,\n",
       "       6.02931923, 6.09278575, 6.15625227, 6.21971879, 6.28318531])"
      ]
     },
     "execution_count": 17,
     "metadata": {},
     "output_type": "execute_result"
    }
   ],
   "source": [
    "from numpy import pi\n",
    "red = np.linspace(0, 2*pi, 100)\n",
    "red"
   ]
  },
  {
   "cell_type": "markdown",
   "id": "d3fe7757",
   "metadata": {},
   "source": [
    "## Utilizar np.sin np.con para optener los valores de seno y coseno en los puestos de array anterio\n"
   ]
  },
  {
   "cell_type": "code",
   "execution_count": 18,
   "id": "a0a641fb",
   "metadata": {},
   "outputs": [],
   "source": [
    "sen = np.sin(red)\n",
    "cos = np.cos(red)"
   ]
  },
  {
   "cell_type": "markdown",
   "id": "5f4c61a0",
   "metadata": {},
   "source": [
    "Graficar un circulo con seno y coseno"
   ]
  },
  {
   "cell_type": "code",
   "execution_count": 19,
   "id": "8ab99cbc",
   "metadata": {},
   "outputs": [
    {
     "data": {
      "text/plain": [
       "[<matplotlib.lines.Line2D at 0x1a6e730da90>]"
      ]
     },
     "execution_count": 19,
     "metadata": {},
     "output_type": "execute_result"
    },
    {
     "data": {
      "image/png": "[encoded data removed]",
      "text/plain": [
       "<Figure size 640x480 with 1 Axes>"
      ]
     },
     "metadata": {},
     "output_type": "display_data"
    }
   ],
   "source": [
    "plt.plot(sen, cos)"
   ]
  },
  {
   "cell_type": "markdown",
   "id": "849f873c",
   "metadata": {},
   "source": [
    "## Ejercicio 16:\n",
    "### Utilizar plt.plot para graficar los valores del seno y del coseno por separado\n"
   ]
  },
  {
   "cell_type": "code",
   "execution_count": 21,
   "id": "ff213d07",
   "metadata": {},
   "outputs": [
    {
     "data": {
      "text/plain": [
       "[<matplotlib.lines.Line2D at 0x1a6ea5e07d0>]"
      ]
     },
     "execution_count": 21,
     "metadata": {},
     "output_type": "execute_result"
    },
    {
     "data": {
      "image/png": "[encoded data removed]",
      "text/plain": [
       "<Figure size 640x480 with 1 Axes>"
      ]
     },
     "metadata": {},
     "output_type": "display_data"
    }
   ],
   "source": [
    "plt.plot(sen)\n",
    "plt.plot(cos)\n"
   ]
  },
  {
   "cell_type": "markdown",
   "id": "357d05aa",
   "metadata": {},
   "source": [
    "Ejercicio 17:\n",
    "Operaciciones con numpy"
   ]
  },
  {
   "cell_type": "code",
   "execution_count": 23,
   "id": "b0b39294",
   "metadata": {},
   "outputs": [
    {
     "name": "stdout",
     "output_type": "stream",
     "text": [
      "[15. 21. 27. 33. 39. 45.]\n"
     ]
    }
   ],
   "source": [
    "a = np.linspace(10, 20, 6)\n",
    "b = np.linspace(5, 25, 6)\n",
    "print(a + b)"
   ]
  },
  {
   "cell_type": "markdown",
   "id": "237ea802",
   "metadata": {},
   "source": [
    "sumar los valores de a y b"
   ]
  },
  {
   "cell_type": "code",
   "execution_count": 24,
   "id": "71297bb1",
   "metadata": {},
   "outputs": [
    {
     "data": {
      "text/plain": [
       "array([15., 21., 27., 33., 39., 45.])"
      ]
     },
     "execution_count": 24,
     "metadata": {},
     "output_type": "execute_result"
    }
   ],
   "source": [
    "a + b "
   ]
  },
  {
   "cell_type": "markdown",
   "id": "4e695ebc",
   "metadata": {},
   "source": [
    "unir o concatenar los array a y b luego guardarlo"
   ]
  },
  {
   "cell_type": "code",
   "execution_count": 27,
   "id": "a8a2a0fb",
   "metadata": {},
   "outputs": [
    {
     "data": {
      "text/plain": [
       "array([10., 12., 14., 16., 18., 20.,  5.,  9., 13., 17., 21., 25.])"
      ]
     },
     "execution_count": 27,
     "metadata": {},
     "output_type": "execute_result"
    }
   ],
   "source": [
    "c = np.concatenate((a, b))\n",
    "c"
   ]
  },
  {
   "cell_type": "markdown",
   "id": "e1bf0d0e",
   "metadata": {},
   "source": [
    "ordenar los valores del array c:"
   ]
  },
  {
   "cell_type": "code",
   "execution_count": 28,
   "id": "8b9d202e",
   "metadata": {},
   "outputs": [
    {
     "data": {
      "text/plain": [
       "array([ 5.,  9., 10., 12., 13., 14., 16., 17., 18., 20., 21., 25.])"
      ]
     },
     "execution_count": 28,
     "metadata": {},
     "output_type": "execute_result"
    }
   ],
   "source": [
    "c.sort()\n",
    "c"
   ]
  },
  {
   "cell_type": "markdown",
   "id": "33ab8a3e",
   "metadata": {},
   "source": [
    "ejercico 18:\n",
    "Generar un array del 1000 numeros aliatorios entre 0 y 1 esto utilizando un rg.random"
   ]
  },
  {
   "cell_type": "code",
   "execution_count": 31,
   "id": "ee249d05",
   "metadata": {},
   "outputs": [],
   "source": [
    "rg = np.random.default_rng(2)\n"
   ]
  },
  {
   "cell_type": "code",
   "execution_count": 32,
   "id": "192e541f",
   "metadata": {},
   "outputs": [
    {
     "data": {
      "text/plain": [
       "array([0.26161213, 0.29849114, 0.81422574, 0.09191594, 0.60010053,\n",
       "       0.72856053, 0.18790107, 0.05514663, 0.27496937, 0.65743301,\n",
       "       0.56226566, 0.15006226, 0.43263079, 0.6692973 , 0.42278467,\n",
       "       0.6331844 , 0.96743595, 0.68306482, 0.39162483, 0.18725257,\n",
       "       0.34596067, 0.51106597, 0.89120941, 0.77556394, 0.3181466 ,\n",
       "       0.9242169 , 0.47090989, 0.69375884, 0.10720731, 0.10454356,\n",
       "       0.20190745, 0.88444967, 0.67981146, 0.84923632, 0.64443627,\n",
       "       0.4065424 , 0.51657819, 0.59344352, 0.86211798, 0.43818617,\n",
       "       0.89224011, 0.61371694, 0.82935613, 0.49805605, 0.69251813,\n",
       "       0.33902537, 0.5228285 , 0.21622339, 0.1007036 , 0.03860413,\n",
       "       0.70194948, 0.45643062, 0.89773415, 0.8351832 , 0.38509513,\n",
       "       0.97367877, 0.59206201, 0.76588331, 0.40719436, 0.19616991,\n",
       "       0.17177702, 0.18120623, 0.60380552, 0.11263286, 0.01991075,\n",
       "       0.83299696, 0.09941112, 0.45058454, 0.48849857, 0.62027241,\n",
       "       0.50401448, 0.93734314, 0.75039659, 0.5744665 , 0.61727214,\n",
       "       0.50655149, 0.96476181, 0.22662606, 0.68902714, 0.55509668,\n",
       "       0.04201179, 0.29615   , 0.92716694, 0.78456486, 0.01283109,\n",
       "       0.29662633, 0.00980535, 0.82746694, 0.11036759, 0.05745518,\n",
       "       0.98188334, 0.44586988, 0.318393  , 0.04901339, 0.38959528,\n",
       "       0.36603906, 0.52348079, 0.00678547, 0.14796288, 0.20988653,\n",
       "       0.44050452, 0.30230337, 0.61332768, 0.28543261, 0.90963301,\n",
       "       0.96186996, 0.05943487, 0.20905972, 0.56302318, 0.77066023,\n",
       "       0.06402423, 0.18480268, 0.45672012, 0.66869076, 0.90332793,\n",
       "       0.86697296, 0.79375542, 0.05273214, 0.97663649, 0.61462795,\n",
       "       0.08611582, 0.25492878, 0.62075408, 0.38564012, 0.44660348,\n",
       "       0.80458507, 0.82403098, 0.54678698, 0.7924511 , 0.40600493,\n",
       "       0.97448184, 0.60515917, 0.96769798, 0.04398769, 0.88269265,\n",
       "       0.55937719, 0.71363903, 0.19259498, 0.54869138, 0.28927792,\n",
       "       0.10548048, 0.00318677, 0.90684002, 0.67090432, 0.20502173,\n",
       "       0.25781868, 0.46559431, 0.81828725, 0.1176256 , 0.96778483,\n",
       "       0.94391077, 0.2446601 , 0.64078186, 0.36009753, 0.69732334,\n",
       "       0.0869161 , 0.46996588, 0.5884908 , 0.62647574, 0.69279547,\n",
       "       0.89138137, 0.24125021, 0.15319432, 0.39060694, 0.56882815,\n",
       "       0.96052876, 0.71050559, 0.73844255, 0.97271705, 0.26774316,\n",
       "       0.25946163, 0.42254084, 0.29542001, 0.65110339, 0.95171392,\n",
       "       0.15351149, 0.51794768, 0.6775781 , 0.49317767, 0.91374384,\n",
       "       0.73689799, 0.8821768 , 0.11176499, 0.1957635 , 0.06570423,\n",
       "       0.8293195 , 0.96281866, 0.01399102, 0.78925364, 0.7278312 ,\n",
       "       0.90818679, 0.27038547, 0.71477718, 0.23742288, 0.0760332 ,\n",
       "       0.74520406, 0.04221297, 0.69959446, 0.28346246, 0.4874234 ,\n",
       "       0.89153315, 0.24340788, 0.46832438, 0.35504945, 0.19038089,\n",
       "       0.47365147, 0.18163033, 0.79900749, 0.61482164, 0.28313075,\n",
       "       0.973105  , 0.34527684, 0.67125666, 0.73322373, 0.26522639,\n",
       "       0.0117638 , 0.89261588, 0.95641651, 0.17022808, 0.15360521,\n",
       "       0.43266742, 0.59756957, 0.98898263, 0.96349612, 0.98785284,\n",
       "       0.24556942, 0.5988832 , 0.43586914, 0.2314023 , 0.06537737,\n",
       "       0.16872837, 0.35845173, 0.08802173, 0.15073899, 0.04465149,\n",
       "       0.62290627, 0.49271648, 0.243553  , 0.52634874, 0.42444678,\n",
       "       0.65915322, 0.93266722, 0.35329211, 0.64515153, 0.21891674,\n",
       "       0.9398994 , 0.61769248, 0.15874744, 0.25705106, 0.15915136,\n",
       "       0.17913403, 0.30679886, 0.82307044, 0.4570588 , 0.27716997,\n",
       "       0.41907586, 0.26739823, 0.73368242, 0.05878125, 0.28922856,\n",
       "       0.32324609, 0.18151952, 0.73815578, 0.18024736, 0.30048134,\n",
       "       0.05647656, 0.75558564, 0.36386302, 0.65592839, 0.2172361 ,\n",
       "       0.02180019, 0.32241816, 0.77906385, 0.83744578, 0.34883976,\n",
       "       0.84694078, 0.05034893, 0.52211454, 0.25742242, 0.43907769,\n",
       "       0.22164182, 0.89356662, 0.30217467, 0.94529193, 0.10909018,\n",
       "       0.42983101, 0.44344493, 0.70943479, 0.34502227, 0.49249496,\n",
       "       0.07044906, 0.31103146, 0.72498432, 0.10591139, 0.46253567,\n",
       "       0.23672695, 0.1654845 , 0.12131551, 0.81386593, 0.68665702,\n",
       "       0.3794561 , 0.39164094, 0.72845748, 0.60395615, 0.91601526,\n",
       "       0.91941369, 0.4821747 , 0.65913526, 0.54466771, 0.31028554,\n",
       "       0.45351342, 0.72117586, 0.55268215, 0.63240637, 0.4870733 ,\n",
       "       0.95297764, 0.77646145, 0.13078503, 0.81410951, 0.91757758,\n",
       "       0.81665819, 0.34310825, 0.367909  , 0.24321437, 0.05570471,\n",
       "       0.47206135, 0.85048018, 0.76881159, 0.6621989 , 0.84719067,\n",
       "       0.65911387, 0.22333342, 0.80315508, 0.36752   , 0.89006197,\n",
       "       0.32648253, 0.09190195, 0.7298982 , 0.10764675, 0.87021443,\n",
       "       0.41192355, 0.7801212 , 0.05256846, 0.54383776, 0.67689404,\n",
       "       0.12950513, 0.60839782, 0.14302262, 0.30398913, 0.36528521,\n",
       "       0.61958537, 0.13011884, 0.18482566, 0.78125659, 0.71587564,\n",
       "       0.45420567, 0.28200302, 0.69220464, 0.4678444 , 0.31151967,\n",
       "       0.87468323, 0.20184032, 0.80428285, 0.61781791, 0.64598013,\n",
       "       0.68215245, 0.74827104, 0.8809471 , 0.92058385, 0.25548905,\n",
       "       0.1638862 , 0.89637408, 0.20382929, 0.22196494, 0.80525699,\n",
       "       0.96611059, 0.84454535, 0.51673039, 0.37560037, 0.98855173,\n",
       "       0.73606888, 0.62909352, 0.01112877, 0.19519178, 0.01349177,\n",
       "       0.90704041, 0.23646561, 0.17102131, 0.58256772, 0.20310186,\n",
       "       0.54653209, 0.9497917 , 0.86390869, 0.24512753, 0.91617764,\n",
       "       0.39939044, 0.52303708, 0.32497268, 0.99995809, 0.30707346,\n",
       "       0.737276  , 0.61989604, 0.68892332, 0.10400655, 0.53678881,\n",
       "       0.99704736, 0.56314343, 0.19679411, 0.05257312, 0.32995251,\n",
       "       0.74561653, 0.02481358, 0.04863821, 0.65700802, 0.88186714,\n",
       "       0.43874838, 0.62430676, 0.25726181, 0.27256318, 0.47497741,\n",
       "       0.21906648, 0.45387996, 0.14838181, 0.92397493, 0.64795107,\n",
       "       0.09418871, 0.19310735, 0.82915273, 0.37240304, 0.26010407,\n",
       "       0.02331807, 0.67521685, 0.57033139, 0.84039444, 0.16973045,\n",
       "       0.75229518, 0.82706877, 0.82412116, 0.74636475, 0.44236588,\n",
       "       0.04740683, 0.64428142, 0.02569125, 0.08584249, 0.4091233 ,\n",
       "       0.12077795, 0.45198276, 0.8510432 , 0.17415722, 0.79815495,\n",
       "       0.99756073, 0.037283  , 0.42314941, 0.70754131, 0.73168353,\n",
       "       0.27990975, 0.80902173, 0.37128152, 0.20075243, 0.51783179,\n",
       "       0.61247725, 0.83773825, 0.66398121, 0.08311997, 0.57485685,\n",
       "       0.34414603, 0.70504238, 0.04506066, 0.65735746, 0.79157132,\n",
       "       0.0401567 , 0.01536072, 0.89189148, 0.89542364, 0.17658518,\n",
       "       0.92245198, 0.40661635, 0.5190463 , 0.47087198, 0.33500287,\n",
       "       0.88424856, 0.61057621, 0.93247209, 0.62207593, 0.92485838,\n",
       "       0.5152196 , 0.47489401, 0.57131101, 0.00591919, 0.76764455,\n",
       "       0.13961698, 0.94396252, 0.04429511, 0.7081858 , 0.76858554,\n",
       "       0.54163768, 0.09575644, 0.81150338, 0.32121682, 0.28797286,\n",
       "       0.69238515, 0.97182871, 0.09614731, 0.43627545, 0.67334389,\n",
       "       0.2769218 , 0.92499474, 0.6027983 , 0.0756099 , 0.15476542,\n",
       "       0.14325491, 0.45600458, 0.91025897, 0.11228428, 0.15129167,\n",
       "       0.21172574, 0.57309136, 0.43021384, 0.41830465, 0.144937  ,\n",
       "       0.82428303, 0.47944939, 0.86572777, 0.03011478, 0.45770009,\n",
       "       0.3684166 , 0.84131338, 0.69214217, 0.52092413, 0.16124838,\n",
       "       0.68259365, 0.89597382, 0.77662201, 0.96711665, 0.59131801,\n",
       "       0.3137366 , 0.22100306, 0.79934162, 0.81183764, 0.63473214,\n",
       "       0.78207289, 0.4859756 , 0.85153847, 0.69469176, 0.24195175,\n",
       "       0.587547  , 0.65613946, 0.20283872, 0.93577899, 0.80555036,\n",
       "       0.14526105, 0.21989445, 0.0021272 , 0.9394023 , 0.17436271,\n",
       "       0.83381308, 0.51160446, 0.05711615, 0.21142548, 0.25771204,\n",
       "       0.76435562, 0.36764731, 0.14193928, 0.94634387, 0.51451938,\n",
       "       0.0665885 , 0.97299941, 0.67532809, 0.44104229, 0.14572561,\n",
       "       0.69336859, 0.09698163, 0.93923895, 0.75150755, 0.71313401,\n",
       "       0.770281  , 0.86378313, 0.4689278 , 0.81151346, 0.11017816,\n",
       "       0.70036622, 0.75115026, 0.21138699, 0.11133799, 0.91681299,\n",
       "       0.89151201, 0.10992255, 0.58934796, 0.18078792, 0.20470232,\n",
       "       0.92919233, 0.6627969 , 0.7584632 , 0.28213424, 0.77581363,\n",
       "       0.66935946, 0.34626693, 0.49623646, 0.24907852, 0.59450206,\n",
       "       0.18694388, 0.44866577, 0.85532659, 0.65784283, 0.60224058,\n",
       "       0.1119182 , 0.82168075, 0.61953581, 0.94839913, 0.93377553,\n",
       "       0.93179895, 0.53442176, 0.76969508, 0.10163128, 0.04474598,\n",
       "       0.78629822, 0.67325024, 0.94701235, 0.30439726, 0.49499616,\n",
       "       0.78672871, 0.60897904, 0.84850315, 0.39472534, 0.84516247,\n",
       "       0.86129733, 0.90298399, 0.39794645, 0.90827594, 0.30910327,\n",
       "       0.5939051 , 0.97993049, 0.64448812, 0.59241674, 0.36098745,\n",
       "       0.51360948, 0.49059894, 0.67758551, 0.53984254, 0.31843589,\n",
       "       0.19081465, 0.98732843, 0.61934903, 0.17313969, 0.33795313,\n",
       "       0.65016206, 0.23861847, 0.8953391 , 0.54052343, 0.68086001,\n",
       "       0.66350032, 0.16174409, 0.9321474 , 0.84578276, 0.14598698,\n",
       "       0.56956286, 0.5279328 , 0.30958655, 0.3752215 , 0.25919392,\n",
       "       0.63134325, 0.42862469, 0.10042342, 0.22717449, 0.15154658,\n",
       "       0.6294987 , 0.55420062, 0.39253385, 0.54715822, 0.62880705,\n",
       "       0.21650102, 0.05562417, 0.96215879, 0.18551305, 0.24193546,\n",
       "       0.70420057, 0.98581611, 0.12358773, 0.40240606, 0.85582478,\n",
       "       0.08491591, 0.25033644, 0.61371778, 0.82923206, 0.10263636,\n",
       "       0.41635547, 0.59213171, 0.54705089, 0.53554141, 0.99301659,\n",
       "       0.98411915, 0.21030714, 0.25564014, 0.40004198, 0.10096844,\n",
       "       0.14637315, 0.56501523, 0.9869442 , 0.29378302, 0.19845887,\n",
       "       0.61651994, 0.29750548, 0.01359419, 0.09370409, 0.87775262,\n",
       "       0.10872602, 0.64141413, 0.41871556, 0.76948405, 0.50913604,\n",
       "       0.23089804, 0.21116944, 0.23524108, 0.23371029, 0.25082029,\n",
       "       0.29936638, 0.59811942, 0.52777106, 0.06871761, 0.42072396,\n",
       "       0.92998013, 0.93959585, 0.31967223, 0.15554033, 0.29276942,\n",
       "       0.13267831, 0.25856908, 0.92479562, 0.87708237, 0.45226507,\n",
       "       0.5497937 , 0.70061621, 0.70132227, 0.69365893, 0.73606297,\n",
       "       0.5909845 , 0.13294688, 0.68692783, 0.66894323, 0.16234668,\n",
       "       0.19496082, 0.63657494, 0.38583867, 0.81082634, 0.27719726,\n",
       "       0.66617906, 0.61488419, 0.11056069, 0.27843425, 0.35345639,\n",
       "       0.30194219, 0.09099549, 0.23550291, 0.53721973, 0.22607817,\n",
       "       0.63579054, 0.41503913, 0.45636295, 0.20697351, 0.78651879,\n",
       "       0.07745509, 0.94440349, 0.58934317, 0.94425135, 0.5492193 ,\n",
       "       0.35159908, 0.36985564, 0.92930105, 0.52087061, 0.39438049,\n",
       "       0.15598451, 0.15174028, 0.4159864 , 0.45203882, 0.80422819,\n",
       "       0.1216879 , 0.45411715, 0.13300579, 0.2539561 , 0.49312825,\n",
       "       0.87691588, 0.13230636, 0.17424819, 0.70619961, 0.52721846,\n",
       "       0.087695  , 0.68100361, 0.95834903, 0.73825487, 0.9964816 ,\n",
       "       0.74279154, 0.3289304 , 0.80034595, 0.56787535, 0.09133995,\n",
       "       0.36243271, 0.9462756 , 0.65492738, 0.36991639, 0.70850435,\n",
       "       0.68315782, 0.15832343, 0.46072496, 0.80586212, 0.11635039,\n",
       "       0.54763839, 0.11886073, 0.2748959 , 0.7664542 , 0.3576982 ,\n",
       "       0.82241602, 0.72611174, 0.63568696, 0.1503833 , 0.45219568,\n",
       "       0.87827864, 0.63267066, 0.06868851, 0.5020887 , 0.46688802,\n",
       "       0.48721682, 0.41454647, 0.81367542, 0.53227498, 0.85831323,\n",
       "       0.95351183, 0.895208  , 0.76981454, 0.02147006, 0.00177836,\n",
       "       0.17154903, 0.51715473, 0.29937142, 0.1322176 , 0.92680632,\n",
       "       0.42984618, 0.19876075, 0.51155671, 0.98164917, 0.72294483,\n",
       "       0.92461748, 0.11612272, 0.74103998, 0.33755783, 0.36019266,\n",
       "       0.45678005, 0.46275665, 0.79093517, 0.29575051, 0.46146589,\n",
       "       0.43313903, 0.62254965, 0.5585949 , 0.04740737, 0.85397489,\n",
       "       0.64256909, 0.15212173, 0.49579331, 0.90028886, 0.88276535,\n",
       "       0.40365408, 0.2382463 , 0.95181841, 0.73519472, 0.66333272,\n",
       "       0.40889652, 0.86521375, 0.19289379, 0.82802054, 0.80025525,\n",
       "       0.52225306, 0.3639548 , 0.68624492, 0.38830638, 0.41360367,\n",
       "       0.26964155, 0.78326828, 0.15382401, 0.4950853 , 0.44201682,\n",
       "       0.98606868, 0.11027778, 0.56549225, 0.22175259, 0.95042397,\n",
       "       0.12571714, 0.9163971 , 0.64561621, 0.19077339, 0.41446536,\n",
       "       0.2757438 , 0.47744453, 0.82471407, 0.48091166, 0.98513651,\n",
       "       0.91160761, 0.21626896, 0.1326575 , 0.68394761, 0.35990371,\n",
       "       0.26540484, 0.92549658, 0.57841146, 0.26855311, 0.56333748,\n",
       "       0.55038301, 0.79926246, 0.41226899, 0.50416439, 0.15219385,\n",
       "       0.8487494 , 0.9192292 , 0.00214704, 0.75543213, 0.973171  ,\n",
       "       0.85903306, 0.79949204, 0.2153267 , 0.99076444, 0.37323376,\n",
       "       0.85775385, 0.7783426 , 0.60671695, 0.9649848 , 0.95737623,\n",
       "       0.44370039, 0.47245969, 0.90305327, 0.45135175, 0.8689432 ,\n",
       "       0.22692452, 0.25245973, 0.38753314, 0.30885314, 0.45316705,\n",
       "       0.2215557 , 0.16398265, 0.38067023, 0.17772138, 0.3432666 ,\n",
       "       0.39672897, 0.9420742 , 0.41695678, 0.59084393, 0.92405279,\n",
       "       0.44420321, 0.27553312, 0.56724901, 0.82470659, 0.28400078,\n",
       "       0.73733227, 0.48127851, 0.52816772, 0.644314  , 0.46781092,\n",
       "       0.1862254 , 0.23138241, 0.04836611, 0.88172958, 0.6517751 ,\n",
       "       0.93894598, 0.31762257, 0.55897519, 0.57045233, 0.13952009,\n",
       "       0.55569569, 0.60553346, 0.4316789 , 0.34920036, 0.23630718,\n",
       "       0.07699087, 0.59871844, 0.19644018, 0.08057523, 0.98344255,\n",
       "       0.8902411 , 0.36113692, 0.47101246, 0.2046988 , 0.98639626,\n",
       "       0.30079772, 0.83557173, 0.74744073, 0.01679759, 0.0373027 ,\n",
       "       0.44008969, 0.03064513, 0.91833795, 0.97035205, 0.61271034,\n",
       "       0.30587525, 0.21294377, 0.13591121, 0.56687434, 0.15733404,\n",
       "       0.21963747, 0.71950734, 0.86910493, 0.63325264, 0.95613918])"
      ]
     },
     "execution_count": 32,
     "metadata": {},
     "output_type": "execute_result"
    }
   ],
   "source": [
    "aleatorio = rg.random(1000)\n",
    "aleatorio"
   ]
  },
  {
   "cell_type": "markdown",
   "id": "41906687",
   "metadata": {},
   "source": [
    "Graficamos los datos"
   ]
  },
  {
   "cell_type": "code",
   "execution_count": null,
   "id": "820befd4",
   "metadata": {},
   "outputs": [
    {
     "data": {
      "image/png": "[encoded data removed]",
      "text/plain": [
       "<Figure size 640x480 with 1 Axes>"
      ]
     },
     "metadata": {},
     "output_type": "display_data"
    }
   ],
   "source": [
    "plt.hist(aleatorio, bins=1000)\n",
    "plt.show()"
   ]
  },
  {
   "cell_type": "markdown",
   "id": "e8cfdd7e",
   "metadata": {},
   "source": [
    "ejercicio 19:\n",
    "Generar 100000 valores aleatorios que sigan una distribucion normal."
   ]
  },
  {
   "cell_type": "code",
   "execution_count": null,
   "id": "279a9d4c",
   "metadata": {},
   "outputs": [
    {
     "data": {
      "text/plain": [
       "array([14.85757686,  9.7264013 ,  6.18179076, ..., 10.52251049,\n",
       "        5.58820278, 12.33283303], shape=(100000,))"
      ]
     },
     "execution_count": 38,
     "metadata": {},
     "output_type": "execute_result"
    }
   ],
   "source": [
    "# normal(media, desviacion_estandar y el tamaño)\n",
    "dnormal = rg.normal(10, 5, 100000)\n",
    "dnormal\n"
   ]
  },
  {
   "cell_type": "markdown",
   "id": "693237c7",
   "metadata": {},
   "source": [
    "Graficamos los valores normales"
   ]
  },
  {
   "cell_type": "code",
   "execution_count": null,
   "id": "c49cb861",
   "metadata": {},
   "outputs": [],
   "source": [
    "plt.hist(dnormal, bins=100000)\n",
    "plt.show()"
   ]
  },
  {
   "cell_type": "markdown",
   "id": "ac8f90a8",
   "metadata": {},
   "source": [
    "Ejercicio 20:\n",
    "Generar 2000 numeros aliatorios numeros enteros entre el 0 y al 41"
   ]
  },
  {
   "cell_type": "code",
   "execution_count": null,
   "id": "214af103",
   "metadata": {},
   "outputs": [
    {
     "data": {
      "text/plain": [
       "array([35, 35, 23, ..., 20, 13,  5], shape=(2000,))"
      ]
     },
     "execution_count": 41,
     "metadata": {},
     "output_type": "execute_result"
    }
   ],
   "source": [
    "enteros = rg.integers(0, 41, 2000)\n",
    "enteros"
   ]
  },
  {
   "cell_type": "markdown",
   "id": "206f4732",
   "metadata": {},
   "source": [
    "Graficar "
   ]
  },
  {
   "cell_type": "code",
   "execution_count": 43,
   "id": "90444d71",
   "metadata": {},
   "outputs": [
    {
     "data": {
      "image/png": "[encoded data removed]",
      "text/plain": [
       "<Figure size 640x480 with 1 Axes>"
      ]
     },
     "metadata": {},
     "output_type": "display_data"
    }
   ],
   "source": [
    "plt.hist(enteros)\n",
    "plt.show()"
   ]
  },
  {
   "cell_type": "markdown",
   "id": "b0d0ffd2",
   "metadata": {},
   "source": [
    "Ejercicio 21:\n",
    "Mostrar un array con 10 numeros aliatorios sin repiticion entre 0 y el 25"
   ]
  },
  {
   "cell_type": "code",
   "execution_count": 44,
   "id": "e3b446d1",
   "metadata": {},
   "outputs": [
    {
     "data": {
      "text/plain": [
       "array([14,  2,  8, 12,  7,  4, 19, 20,  0,  1])"
      ]
     },
     "execution_count": 44,
     "metadata": {},
     "output_type": "execute_result"
    }
   ],
   "source": [
    "rg.choice(26, size=10, replace=False)"
   ]
  },
  {
   "cell_type": "markdown",
   "id": "6b6ed1c5",
   "metadata": {},
   "source": [
    "# Ejercicio 22:\n",
    "Trabajamos con funciones estadisticas"
   ]
  },
  {
   "cell_type": "code",
   "execution_count": 45,
   "id": "c83e760d",
   "metadata": {},
   "outputs": [
    {
     "data": {
      "text/plain": [
       "array([ 9, 15,  3,  4,  1,  9,  1, 13])"
      ]
     },
     "execution_count": 45,
     "metadata": {},
     "output_type": "execute_result"
    }
   ],
   "source": [
    "estadisticas = rg.integers(20,size=8)\n",
    "estadisticas"
   ]
  },
  {
   "cell_type": "markdown",
   "id": "30259c95",
   "metadata": {},
   "source": [
    "Hallar el numero minimo en los datos"
   ]
  },
  {
   "cell_type": "code",
   "execution_count": 46,
   "id": "96713773",
   "metadata": {},
   "outputs": [
    {
     "data": {
      "text/plain": [
       "np.int64(1)"
      ]
     },
     "execution_count": 46,
     "metadata": {},
     "output_type": "execute_result"
    }
   ],
   "source": [
    "estadisticas.min()"
   ]
  },
  {
   "cell_type": "markdown",
   "id": "dba6a4b3",
   "metadata": {},
   "source": [
    "Hallar el numero maximo de los numeros"
   ]
  },
  {
   "cell_type": "code",
   "execution_count": 47,
   "id": "d9e64f73",
   "metadata": {},
   "outputs": [
    {
     "data": {
      "text/plain": [
       "np.int64(15)"
      ]
     },
     "execution_count": 47,
     "metadata": {},
     "output_type": "execute_result"
    }
   ],
   "source": [
    "estadisticas.max()"
   ]
  },
  {
   "cell_type": "markdown",
   "id": "3b350617",
   "metadata": {},
   "source": [
    "Hallar el promerios de los datos estadisticos"
   ]
  },
  {
   "cell_type": "code",
   "execution_count": 48,
   "id": "c650b06b",
   "metadata": {},
   "outputs": [
    {
     "data": {
      "text/plain": [
       "np.float64(6.875)"
      ]
     },
     "execution_count": 48,
     "metadata": {},
     "output_type": "execute_result"
    }
   ],
   "source": [
    "estadisticas.mean()"
   ]
  },
  {
   "cell_type": "markdown",
   "id": "b5719267",
   "metadata": {},
   "source": [
    "Hallar la desviacion estandar de los datos"
   ]
  },
  {
   "cell_type": "code",
   "execution_count": 49,
   "id": "970b1d8c",
   "metadata": {},
   "outputs": [
    {
     "data": {
      "text/plain": [
       "np.float64(5.06057061999929)"
      ]
     },
     "execution_count": 49,
     "metadata": {},
     "output_type": "execute_result"
    }
   ],
   "source": [
    "estadisticas.std()"
   ]
  },
  {
   "cell_type": "markdown",
   "id": "03b43b0b",
   "metadata": {},
   "source": [
    "Hallar la sumatoria de todo los valores"
   ]
  },
  {
   "cell_type": "code",
   "execution_count": 50,
   "id": "beb009c7",
   "metadata": {},
   "outputs": [
    {
     "data": {
      "text/plain": [
       "np.int64(55)"
      ]
     },
     "execution_count": 50,
     "metadata": {},
     "output_type": "execute_result"
    }
   ],
   "source": [
    "estadisticas.sum()"
   ]
  },
  {
   "cell_type": "markdown",
   "id": "e9cf5568",
   "metadata": {},
   "source": [
    "Ejercicio 22:\n",
    "Generar una matriz bidimencional de enteros 0 al 19 ndel tamaño (5,4)"
   ]
  },
  {
   "cell_type": "code",
   "execution_count": 51,
   "id": "f383ec22",
   "metadata": {},
   "outputs": [
    {
     "data": {
      "text/plain": [
       "array([[ 6,  4,  5, 17],\n",
       "       [ 6, 19, 20, 14],\n",
       "       [11, 16,  1, 18],\n",
       "       [20, 17, 10, 20],\n",
       "       [11,  3, 10, 15]])"
      ]
     },
     "execution_count": 51,
     "metadata": {},
     "output_type": "execute_result"
    }
   ],
   "source": [
    "estadistica2d = rg.integers(21, size=(5,4))\n",
    "estadistica2d"
   ]
  },
  {
   "cell_type": "markdown",
   "id": "b71f9cf3",
   "metadata": {},
   "source": [
    "UTILIZAMOS LOS FUNCIONES ESTADISTICAS PARA LA MATRIS GENERADA"
   ]
  },
  {
   "cell_type": "markdown",
   "id": "46a51b0b",
   "metadata": {},
   "source": [
    "Hallamos el minimo cvalor de cada columna"
   ]
  },
  {
   "cell_type": "code",
   "execution_count": null,
   "id": "d04aa2c4",
   "metadata": {},
   "outputs": [
    {
     "data": {
      "text/plain": [
       "array([ 6,  3,  1, 14])"
      ]
     },
     "execution_count": 52,
     "metadata": {},
     "output_type": "execute_result"
    }
   ],
   "source": [
    "estadistica2d.min(axis=0) #exis = 0 para las columnas"
   ]
  },
  {
   "cell_type": "markdown",
   "id": "db73a224",
   "metadata": {},
   "source": [
    "Hallar el maximo valor de cada fila"
   ]
  },
  {
   "cell_type": "code",
   "execution_count": 53,
   "id": "19c46201",
   "metadata": {},
   "outputs": [
    {
     "data": {
      "text/plain": [
       "array([17, 20, 18, 20, 15])"
      ]
     },
     "execution_count": 53,
     "metadata": {},
     "output_type": "execute_result"
    }
   ],
   "source": [
    "estadistica2d.max(axis=1) #exis = 1 para las filas"
   ]
  },
  {
   "cell_type": "markdown",
   "id": "120f446a",
   "metadata": {},
   "source": [
    "## Ejercicio 24:\n",
    "optener los valores menores a 12 en la matriz generada"
   ]
  },
  {
   "cell_type": "code",
   "execution_count": 54,
   "id": "81878fc4",
   "metadata": {},
   "outputs": [
    {
     "data": {
      "text/plain": [
       "array([[ True,  True,  True, False],\n",
       "       [ True, False, False, False],\n",
       "       [ True, False,  True, False],\n",
       "       [False, False,  True, False],\n",
       "       [ True,  True,  True, False]])"
      ]
     },
     "execution_count": 54,
     "metadata": {},
     "output_type": "execute_result"
    }
   ],
   "source": [
    "estadistica2d < 12"
   ]
  },
  {
   "cell_type": "code",
   "execution_count": 56,
   "id": "2a59458b",
   "metadata": {},
   "outputs": [
    {
     "data": {
      "text/plain": [
       "array([ 6,  4,  5,  6, 11,  1, 10, 11,  3, 10])"
      ]
     },
     "execution_count": 56,
     "metadata": {},
     "output_type": "execute_result"
    }
   ],
   "source": [
    "estadistica2d[estadistica2d < 12]"
   ]
  },
  {
   "cell_type": "markdown",
   "id": "033b95d9",
   "metadata": {},
   "source": [
    "# Ejercicio 25:\n",
    "Generar dos matrizes bidimencional y unirlas en uno solo matriz\n"
   ]
  },
  {
   "cell_type": "code",
   "execution_count": 58,
   "id": "1539e422",
   "metadata": {},
   "outputs": [
    {
     "name": "stdout",
     "output_type": "stream",
     "text": [
      "[[15 16  2]\n",
      " [ 6 13 14]\n",
      " [ 5  4  2]] \n",
      "\n",
      " [[19  3  7]\n",
      " [13  6 12]\n",
      " [12  3 12]]\n"
     ]
    }
   ],
   "source": [
    "M1 = rg.integers(20, size=(3, 3))\n",
    "M2 = rg.integers(20, size=(3, 3))\n",
    "print(M1, \"\\n\\n\", M2)"
   ]
  },
  {
   "cell_type": "markdown",
   "id": "6b1db8fb",
   "metadata": {},
   "source": [
    "Unir los dos matrizes M1 M2 de forma vertical"
   ]
  },
  {
   "cell_type": "code",
   "execution_count": 59,
   "id": "648ce2c0",
   "metadata": {},
   "outputs": [
    {
     "data": {
      "text/plain": [
       "array([[15, 16,  2],\n",
       "       [ 6, 13, 14],\n",
       "       [ 5,  4,  2],\n",
       "       [19,  3,  7],\n",
       "       [13,  6, 12],\n",
       "       [12,  3, 12]])"
      ]
     },
     "execution_count": 59,
     "metadata": {},
     "output_type": "execute_result"
    }
   ],
   "source": [
    "np.vstack((M1, M2))  "
   ]
  },
  {
   "cell_type": "markdown",
   "id": "ec181f26",
   "metadata": {},
   "source": [
    "Unir dos matrizae pero de forma horisontal"
   ]
  },
  {
   "cell_type": "code",
   "execution_count": 60,
   "id": "daf1abfe",
   "metadata": {},
   "outputs": [
    {
     "data": {
      "text/plain": [
       "array([[15, 16,  2, 19,  3,  7],\n",
       "       [ 6, 13, 14, 13,  6, 12],\n",
       "       [ 5,  4,  2, 12,  3, 12]])"
      ]
     },
     "execution_count": 60,
     "metadata": {},
     "output_type": "execute_result"
    }
   ],
   "source": [
    "np.hstack((M1, M2))  "
   ]
  },
  {
   "cell_type": "markdown",
   "id": "38b4c216",
   "metadata": {},
   "source": [
    "# Ejercicio 26:\n",
    "Generar un array de enteros del 0 al 19 con 10 datos"
   ]
  },
  {
   "cell_type": "code",
   "execution_count": 61,
   "id": "b4222109",
   "metadata": {},
   "outputs": [
    {
     "data": {
      "text/plain": [
       "array([ 9,  7, 13, 11,  9,  6, 17, 19,  9, 15])"
      ]
     },
     "execution_count": 61,
     "metadata": {},
     "output_type": "execute_result"
    }
   ],
   "source": [
    "arreglo = rg.integers(20, size=10)\n",
    "arreglo"
   ]
  },
  {
   "cell_type": "markdown",
   "id": "9a254bb3",
   "metadata": {},
   "source": [
    "Seleccionar los primeros 6 valores del array"
   ]
  },
  {
   "cell_type": "code",
   "execution_count": 62,
   "id": "bab17a64",
   "metadata": {},
   "outputs": [
    {
     "data": {
      "text/plain": [
       "array([ 9,  7, 13, 11,  9,  6])"
      ]
     },
     "execution_count": 62,
     "metadata": {},
     "output_type": "execute_result"
    }
   ],
   "source": [
    "arreglo[0:6]"
   ]
  },
  {
   "cell_type": "markdown",
   "id": "8a735a8e",
   "metadata": {},
   "source": [
    "Mostrar los valores en la posicion 0 , 2y4 del array"
   ]
  },
  {
   "cell_type": "code",
   "execution_count": 63,
   "id": "29206393",
   "metadata": {},
   "outputs": [
    {
     "data": {
      "text/plain": [
       "array([ 9, 13,  9])"
      ]
     },
     "execution_count": 63,
     "metadata": {},
     "output_type": "execute_result"
    }
   ],
   "source": [
    "arreglo[0:6:2]"
   ]
  },
  {
   "cell_type": "markdown",
   "id": "ce34e7dd",
   "metadata": {},
   "source": [
    "Mostrar todos los valores con un indice par en el array(0,2,4...)"
   ]
  },
  {
   "cell_type": "code",
   "execution_count": 64,
   "id": "b148beea",
   "metadata": {},
   "outputs": [
    {
     "data": {
      "text/plain": [
       "array([ 9, 13,  9, 17,  9])"
      ]
     },
     "execution_count": 64,
     "metadata": {},
     "output_type": "execute_result"
    }
   ],
   "source": [
    "arreglo[::2]"
   ]
  },
  {
   "cell_type": "markdown",
   "id": "58ba8c54",
   "metadata": {},
   "source": [
    "# Ejercicio 27:\n",
    "Generar una matriz bidimencional de tamaño 8 filas y 5 columnas, con valores enteros del 0 al 19"
   ]
  },
  {
   "cell_type": "code",
   "execution_count": 65,
   "id": "479e5f15",
   "metadata": {},
   "outputs": [
    {
     "data": {
      "text/plain": [
       "array([[19, 11, 12, 17,  7],\n",
       "       [ 8,  1, 11,  3,  5],\n",
       "       [ 9,  5,  0,  1, 19],\n",
       "       [13, 13,  0,  6,  4],\n",
       "       [ 2, 10,  5,  2, 15],\n",
       "       [ 1,  1,  8, 19, 17],\n",
       "       [ 1,  3,  1, 17,  3],\n",
       "       [ 3, 11, 19,  4,  2]])"
      ]
     },
     "execution_count": 65,
     "metadata": {},
     "output_type": "execute_result"
    }
   ],
   "source": [
    "MatEnteros  = rg.integers(20, size=(8, 5))\n",
    "MatEnteros"
   ]
  },
  {
   "cell_type": "markdown",
   "id": "a1ae8b10",
   "metadata": {},
   "source": [
    "Seleccionar el  valor de la fila 4 y la columna 2 en el Matriz"
   ]
  },
  {
   "cell_type": "code",
   "execution_count": 67,
   "id": "f52da1cf",
   "metadata": {},
   "outputs": [
    {
     "data": {
      "text/plain": [
       "np.int64(2)"
      ]
     },
     "execution_count": 67,
     "metadata": {},
     "output_type": "execute_result"
    }
   ],
   "source": [
    "MatEnteros[4,3]"
   ]
  },
  {
   "cell_type": "markdown",
   "id": "03aa9f4a",
   "metadata": {},
   "source": [
    "Seleccionar el segundo valor de la matriz con indice 3, 4 y 5"
   ]
  },
  {
   "cell_type": "code",
   "execution_count": 68,
   "id": "055c53fd",
   "metadata": {},
   "outputs": [
    {
     "data": {
      "text/plain": [
       "array([13, 10,  1])"
      ]
     },
     "execution_count": 68,
     "metadata": {},
     "output_type": "execute_result"
    }
   ],
   "source": [
    "MatEnteros[3:6,1]"
   ]
  },
  {
   "cell_type": "markdown",
   "id": "d27b32a8",
   "metadata": {},
   "source": [
    "Seleccionar los dos primeros valores en la matriz con indice 4,5,6"
   ]
  },
  {
   "cell_type": "code",
   "execution_count": 69,
   "id": "49e80fe6",
   "metadata": {},
   "outputs": [
    {
     "data": {
      "text/plain": [
       "array([[13, 13],\n",
       "       [ 2, 10],\n",
       "       [ 1,  1]])"
      ]
     },
     "execution_count": 69,
     "metadata": {},
     "output_type": "execute_result"
    }
   ],
   "source": [
    "MatEnteros[3:6,0:2]"
   ]
  }
 ],
 "metadata": {
  "kernelspec": {
   "display_name": "Python 3",
   "language": "python",
   "name": "python3"
  },
  "language_info": {
   "codemirror_mode": {
    "name": "ipython",
    "version": 3
   },
   "file_extension": ".py",
   "mimetype": "text/x-python",
   "name": "python",
   "nbconvert_exporter": "python",
   "pygments_lexer": "ipython3",
   "version": "3.13.6"
  }
 },
 "nbformat": 4,
 "nbformat_minor": 5
}
