{
 "cells": [
  {
   "cell_type": "markdown",
   "id": "3bf62dc7",
   "metadata": {},
   "source": [
    "#Ejwecicio con NUMPY\n",
    "\n",
    "utilizar el paquete  NUMPY para realizar los ejercicios"
   ]
  },
  {
   "cell_type": "code",
   "execution_count": 6,
   "id": "65e264d0",
   "metadata": {},
   "outputs": [],
   "source": [
    "import numpy as np"
   ]
  },
  {
   "cell_type": "code",
   "execution_count": 27,
   "id": "36e047f7",
   "metadata": {},
   "outputs": [],
   "source": [
    "import matplotlib.pyplot as plt"
   ]
  },
  {
   "cell_type": "markdown",
   "id": "9ef1b792",
   "metadata": {},
   "source": [
    "#Ejercicio 1\n",
    "#crear un arreglo a partir de una lista de python"
   ]
  },
  {
   "cell_type": "code",
   "execution_count": 7,
   "id": "e1983c88",
   "metadata": {},
   "outputs": [
    {
     "name": "stdout",
     "output_type": "stream",
     "text": [
      "[25 23 34 65 21]\n"
     ]
    }
   ],
   "source": [
    "lista = [25, 23, 34, 65, 21]\n",
    "arr = np.array(lista)\n",
    "print(arr)"
   ]
  },
  {
   "cell_type": "markdown",
   "id": "81df52c8",
   "metadata": {},
   "source": [
    "##Ejercicio 2:\n",
    "\n",
    "###Generar una Matriz a partir de una lista 2d"
   ]
  },
  {
   "cell_type": "code",
   "execution_count": 2,
   "id": "dca7f1c5",
   "metadata": {},
   "outputs": [
    {
     "name": "stdout",
     "output_type": "stream",
     "text": [
      "[[1 2 3]\n",
      " [9 5 6]\n",
      " [8 7 4]]\n"
     ]
    }
   ],
   "source": [
    "lista =[[1, 2, 3], [9, 5, 6],[8,7,4]]\n",
    "matriz = np.array(lista)\n",
    "print(matriz)"
   ]
  },
  {
   "cell_type": "markdown",
   "id": "b9548f3d",
   "metadata": {},
   "source": [
    "Ejercicio 3:\n",
    "#Visualizar el tamaño de la matriz"
   ]
  },
  {
   "cell_type": "code",
   "execution_count": 3,
   "id": "efb14f1d",
   "metadata": {},
   "outputs": [
    {
     "data": {
      "text/plain": [
       "(3, 3)"
      ]
     },
     "execution_count": 3,
     "metadata": {},
     "output_type": "execute_result"
    }
   ],
   "source": [
    "matriz.shape"
   ]
  },
  {
   "cell_type": "markdown",
   "id": "79f84474",
   "metadata": {},
   "source": [
    "Ejercicio 4:\n",
    "Visualizar el tamaño de la matriz"
   ]
  },
  {
   "cell_type": "code",
   "execution_count": 4,
   "id": "d9b4af2e",
   "metadata": {},
   "outputs": [
    {
     "data": {
      "text/plain": [
       "2"
      ]
     },
     "execution_count": 4,
     "metadata": {},
     "output_type": "execute_result"
    }
   ],
   "source": [
    "\n",
    "matriz.ndim"
   ]
  },
  {
   "cell_type": "markdown",
   "id": "18324b54",
   "metadata": {},
   "source": [
    "Ejercicio 5:\n",
    "Visualizar el tipo del dato de la matriz"
   ]
  },
  {
   "cell_type": "code",
   "execution_count": 5,
   "id": "55b61928",
   "metadata": {},
   "outputs": [
    {
     "data": {
      "text/plain": [
       "dtype('int64')"
      ]
     },
     "execution_count": 5,
     "metadata": {},
     "output_type": "execute_result"
    }
   ],
   "source": [
    "matriz.dtype"
   ]
  },
  {
   "cell_type": "markdown",
   "id": "b133d00e",
   "metadata": {},
   "source": [
    "Ejercico 6:\n",
    "Visualizar la cantidad total de datos de la matriz"
   ]
  },
  {
   "cell_type": "code",
   "execution_count": 8,
   "id": "2ca462db",
   "metadata": {},
   "outputs": [
    {
     "data": {
      "text/plain": [
       "9"
      ]
     },
     "execution_count": 8,
     "metadata": {},
     "output_type": "execute_result"
    }
   ],
   "source": [
    "matriz.size"
   ]
  },
  {
   "cell_type": "markdown",
   "id": "b93e7515",
   "metadata": {},
   "source": [
    "Ejercicio 7:\n",
    "cambiar el tipo de dato de la matriz a int16"
   ]
  },
  {
   "cell_type": "code",
   "execution_count": 11,
   "id": "f646024b",
   "metadata": {},
   "outputs": [
    {
     "name": "stdout",
     "output_type": "stream",
     "text": [
      "[25 23 34 65 21]\n"
     ]
    }
   ],
   "source": [
    "matriz=np.array(lista, dtype=np.int16)\n",
    "print(matriz)"
   ]
  },
  {
   "cell_type": "markdown",
   "id": "7f18209e",
   "metadata": {},
   "source": [
    "Ejercicio 8:\n",
    "Generar una matriz inicializada con ceros(0)"
   ]
  },
  {
   "cell_type": "code",
   "execution_count": 13,
   "id": "7861a550",
   "metadata": {},
   "outputs": [
    {
     "data": {
      "text/plain": [
       "array([[0., 0., 0., 0., 0.],\n",
       "       [0., 0., 0., 0., 0.],\n",
       "       [0., 0., 0., 0., 0.],\n",
       "       [0., 0., 0., 0., 0.]])"
      ]
     },
     "execution_count": 13,
     "metadata": {},
     "output_type": "execute_result"
    }
   ],
   "source": [
    "Mcero  = np.zeros((4, 5))\n",
    "Mcero"
   ]
  },
  {
   "cell_type": "markdown",
   "id": "c80400a7",
   "metadata": {},
   "source": [
    "Ejercicio 9:\n",
    "Generar una matriz inicializando con un matriz de uno(1) "
   ]
  },
  {
   "cell_type": "code",
   "execution_count": 14,
   "id": "9bf8d0c5",
   "metadata": {},
   "outputs": [
    {
     "data": {
      "text/plain": [
       "array([[1., 1., 1., 1., 1., 1.],\n",
       "       [1., 1., 1., 1., 1., 1.],\n",
       "       [1., 1., 1., 1., 1., 1.],\n",
       "       [1., 1., 1., 1., 1., 1.],\n",
       "       [1., 1., 1., 1., 1., 1.]])"
      ]
     },
     "execution_count": 14,
     "metadata": {},
     "output_type": "execute_result"
    }
   ],
   "source": [
    "Munos = np.ones((5, 6))\n",
    "Munos"
   ]
  },
  {
   "cell_type": "markdown",
   "id": "9c790987",
   "metadata": {},
   "source": [
    "Ejercicio 10:\n",
    "Generar un matriz con cualquier valor de 3x4"
   ]
  },
  {
   "cell_type": "code",
   "execution_count": 15,
   "id": "df960f4b",
   "metadata": {},
   "outputs": [
    {
     "data": {
      "text/plain": [
       "array([[1.17693342e-311, 3.16202013e-322, 0.00000000e+000,\n",
       "        0.00000000e+000],\n",
       "       [0.00000000e+000, 2.75208768e+180, 5.00090176e+174,\n",
       "        1.06106271e-046],\n",
       "       [2.48980429e+180, 2.16537802e+184, 4.23106841e+175,\n",
       "        3.79101460e+179]])"
      ]
     },
     "execution_count": 15,
     "metadata": {},
     "output_type": "execute_result"
    }
   ],
   "source": [
    "np.empty((3,4))\n"
   ]
  },
  {
   "cell_type": "markdown",
   "id": "11d3091a",
   "metadata": {},
   "source": [
    "Ejercicio 11:\n",
    "Crear un arry con los valores del uno al nueve (1,9)\n"
   ]
  },
  {
   "cell_type": "code",
   "execution_count": 18,
   "id": "0eeb11d9",
   "metadata": {},
   "outputs": [
    {
     "data": {
      "text/plain": [
       "array([0, 1, 2, 3, 4, 5, 6, 7, 8, 9])"
      ]
     },
     "execution_count": 18,
     "metadata": {},
     "output_type": "execute_result"
    }
   ],
   "source": [
    "arreglo = np.arange((10))\n",
    "arreglo"
   ]
  },
  {
   "cell_type": "markdown",
   "id": "fbdcdb74",
   "metadata": {},
   "source": [
    "Ejercicio 12:\n",
    "Crear un Matris 2d de tamaño 2x5 con los valores del 0 al 9"
   ]
  },
  {
   "cell_type": "code",
   "execution_count": 20,
   "id": "65cd3ac2",
   "metadata": {},
   "outputs": [
    {
     "data": {
      "text/plain": [
       "array([[0, 1, 2, 3, 4],\n",
       "       [5, 6, 7, 8, 9]])"
      ]
     },
     "execution_count": 20,
     "metadata": {},
     "output_type": "execute_result"
    }
   ],
   "source": [
    "np.arange(10).reshape((2, 5))"
   ]
  },
  {
   "cell_type": "markdown",
   "id": "bf2ee0f7",
   "metadata": {},
   "source": [
    "## Ejercicio 13:\n",
    "### Gerar una array con los valores del 10 al 20, que vaya de 2 en 2 [10,12,14]"
   ]
  },
  {
   "cell_type": "code",
   "execution_count": null,
   "id": "5dff7b1a",
   "metadata": {},
   "outputs": [
    {
     "data": {
      "text/plain": [
       "array([10, 12, 14, 16, 18, 20])"
      ]
     },
     "execution_count": 21,
     "metadata": {},
     "output_type": "execute_result"
    }
   ],
   "source": [
    "#arange(inicio,final+1,paso a paso)\n",
    "np.arange(10,21,2)"
   ]
  },
  {
   "cell_type": "markdown",
   "id": "99066a39",
   "metadata": {},
   "source": [
    "## Ejercicio 14:\n",
    "### Generar una matriz con los valores entre 10 y 20"
   ]
  },
  {
   "cell_type": "code",
   "execution_count": 22,
   "id": "1030c790",
   "metadata": {},
   "outputs": [
    {
     "data": {
      "text/plain": [
       "array([10.        , 10.1010101 , 10.2020202 , 10.3030303 , 10.4040404 ,\n",
       "       10.50505051, 10.60606061, 10.70707071, 10.80808081, 10.90909091,\n",
       "       11.01010101, 11.11111111, 11.21212121, 11.31313131, 11.41414141,\n",
       "       11.51515152, 11.61616162, 11.71717172, 11.81818182, 11.91919192,\n",
       "       12.02020202, 12.12121212, 12.22222222, 12.32323232, 12.42424242,\n",
       "       12.52525253, 12.62626263, 12.72727273, 12.82828283, 12.92929293,\n",
       "       13.03030303, 13.13131313, 13.23232323, 13.33333333, 13.43434343,\n",
       "       13.53535354, 13.63636364, 13.73737374, 13.83838384, 13.93939394,\n",
       "       14.04040404, 14.14141414, 14.24242424, 14.34343434, 14.44444444,\n",
       "       14.54545455, 14.64646465, 14.74747475, 14.84848485, 14.94949495,\n",
       "       15.05050505, 15.15151515, 15.25252525, 15.35353535, 15.45454545,\n",
       "       15.55555556, 15.65656566, 15.75757576, 15.85858586, 15.95959596,\n",
       "       16.06060606, 16.16161616, 16.26262626, 16.36363636, 16.46464646,\n",
       "       16.56565657, 16.66666667, 16.76767677, 16.86868687, 16.96969697,\n",
       "       17.07070707, 17.17171717, 17.27272727, 17.37373737, 17.47474747,\n",
       "       17.57575758, 17.67676768, 17.77777778, 17.87878788, 17.97979798,\n",
       "       18.08080808, 18.18181818, 18.28282828, 18.38383838, 18.48484848,\n",
       "       18.58585859, 18.68686869, 18.78787879, 18.88888889, 18.98989899,\n",
       "       19.09090909, 19.19191919, 19.29292929, 19.39393939, 19.49494949,\n",
       "       19.5959596 , 19.6969697 , 19.7979798 , 19.8989899 , 20.        ])"
      ]
     },
     "execution_count": 22,
     "metadata": {},
     "output_type": "execute_result"
    }
   ],
   "source": [
    "np.linspace(10, 20, 100) "
   ]
  },
  {
   "cell_type": "markdown",
   "id": "be982e62",
   "metadata": {},
   "source": [
    "## Ejercicio 15:\n",
    "### Generar un array con 100 numeros entre 0 y 2 2pi"
   ]
  },
  {
   "cell_type": "code",
   "execution_count": 24,
   "id": "3147944f",
   "metadata": {},
   "outputs": [
    {
     "data": {
      "text/plain": [
       "array([0.        , 0.06346652, 0.12693304, 0.19039955, 0.25386607,\n",
       "       0.31733259, 0.38079911, 0.44426563, 0.50773215, 0.57119866,\n",
       "       0.63466518, 0.6981317 , 0.76159822, 0.82506474, 0.88853126,\n",
       "       0.95199777, 1.01546429, 1.07893081, 1.14239733, 1.20586385,\n",
       "       1.26933037, 1.33279688, 1.3962634 , 1.45972992, 1.52319644,\n",
       "       1.58666296, 1.65012947, 1.71359599, 1.77706251, 1.84052903,\n",
       "       1.90399555, 1.96746207, 2.03092858, 2.0943951 , 2.15786162,\n",
       "       2.22132814, 2.28479466, 2.34826118, 2.41172769, 2.47519421,\n",
       "       2.53866073, 2.60212725, 2.66559377, 2.72906028, 2.7925268 ,\n",
       "       2.85599332, 2.91945984, 2.98292636, 3.04639288, 3.10985939,\n",
       "       3.17332591, 3.23679243, 3.30025895, 3.36372547, 3.42719199,\n",
       "       3.4906585 , 3.55412502, 3.61759154, 3.68105806, 3.74452458,\n",
       "       3.8079911 , 3.87145761, 3.93492413, 3.99839065, 4.06185717,\n",
       "       4.12532369, 4.1887902 , 4.25225672, 4.31572324, 4.37918976,\n",
       "       4.44265628, 4.5061228 , 4.56958931, 4.63305583, 4.69652235,\n",
       "       4.75998887, 4.82345539, 4.88692191, 4.95038842, 5.01385494,\n",
       "       5.07732146, 5.14078798, 5.2042545 , 5.26772102, 5.33118753,\n",
       "       5.39465405, 5.45812057, 5.52158709, 5.58505361, 5.64852012,\n",
       "       5.71198664, 5.77545316, 5.83891968, 5.9023862 , 5.96585272,\n",
       "       6.02931923, 6.09278575, 6.15625227, 6.21971879, 6.28318531])"
      ]
     },
     "execution_count": 24,
     "metadata": {},
     "output_type": "execute_result"
    }
   ],
   "source": [
    "from numpy import pi\n",
    "red = np.linspace(0, 2*pi, 100)\n",
    "red"
   ]
  },
  {
   "cell_type": "markdown",
   "id": "d3fe7757",
   "metadata": {},
   "source": [
    "## Utilizar np.sin np.con para optener los valores de seno y coseno en los puestos de array anterio\n"
   ]
  },
  {
   "cell_type": "code",
   "execution_count": 25,
   "id": "a0a641fb",
   "metadata": {},
   "outputs": [],
   "source": [
    "sen = np.sin(red)\n",
    "cos = np.cos(red)"
   ]
  },
  {
   "cell_type": "markdown",
   "id": "5f4c61a0",
   "metadata": {},
   "source": [
    "Graficar un circulo con seno y coseno"
   ]
  },
  {
   "cell_type": "code",
   "execution_count": 28,
   "id": "8ab99cbc",
   "metadata": {},
   "outputs": [
    {
     "data": {
      "text/plain": [
       "[<matplotlib.lines.Line2D at 0x22acde4a990>]"
      ]
     },
     "execution_count": 28,
     "metadata": {},
     "output_type": "execute_result"
    },
    {
     "data": {
      "image/png": "[encoded data removed]",
      "text/plain": [
       "<Figure size 640x480 with 1 Axes>"
      ]
     },
     "metadata": {},
     "output_type": "display_data"
    }
   ],
   "source": [
    "plt.plot(sen, cos)"
   ]
  },
  {
   "cell_type": "code",
   "execution_count": null,
   "id": "e64877f4",
   "metadata": {},
   "outputs": [
    {
     "ename": "NameError",
     "evalue": "name 'plt' is not defined",
     "output_type": "error",
     "traceback": [
      "\u001b[31m---------------------------------------------------------------------------\u001b[39m",
      "\u001b[31mNameError\u001b[39m                                 Traceback (most recent call last)",
      "\u001b[36mCell\u001b[39m\u001b[36m \u001b[39m\u001b[32mIn[2]\u001b[39m\u001b[32m, line 1\u001b[39m\n\u001b[32m----> \u001b[39m\u001b[32m1\u001b[39m \u001b[43mplt\u001b[49m.plot(red, sen, label=\u001b[33m'\u001b[39m\u001b[33mSeno\u001b[39m\u001b[33m'\u001b[39m)\n",
      "\u001b[31mNameError\u001b[39m: name 'plt' is not defined"
     ]
    }
   ],
   "source": [
    "plt.plot(red, sen, label='Seno')\n",
    "plt.xlabel('x')\n",
    "plt.ylabel('sin(x)')\n",
    "plt.legend()\n",
    "plt.show()"
   ]
  }
 ],
 "metadata": {
  "kernelspec": {
   "display_name": "Python 3",
   "language": "python",
   "name": "python3"
  },
  "language_info": {
   "codemirror_mode": {
    "name": "ipython",
    "version": 3
   },
   "file_extension": ".py",
   "mimetype": "text/x-python",
   "name": "python",
   "nbconvert_exporter": "python",
   "pygments_lexer": "ipython3",
   "version": "3.13.6"
  }
 },
 "nbformat": 4,
 "nbformat_minor": 5
}
