{
 "cells": [
  {
   "cell_type": "markdown",
   "id": "4dd28f08",
   "metadata": {},
   "source": [
    "# Entrenamiento de Redes Neuronales con TensorFlow\n"
   ]
  },
  {
   "cell_type": "markdown",
   "id": "51cc7602",
   "metadata": {},
   "source": [
    "#### 1. Realizar el entrenamiento de una Red Neuronal para predecir la Formula del cambio de Temperatura de Grados a Farenheit a Celcius (Centigrados)."
   ]
  },
  {
   "cell_type": "code",
   "execution_count": null,
   "id": "a5dd0d17",
   "metadata": {
    "vscode": {
     "languageId": "plaintext"
    }
   },
   "outputs": [],
   "source": []
  }
 ],
 "metadata": {
  "language_info": {
   "name": "python"
  }
 },
 "nbformat": 4,
 "nbformat_minor": 5
}
