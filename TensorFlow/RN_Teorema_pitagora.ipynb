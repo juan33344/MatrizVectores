{
 "cells": [
  {
   "cell_type": "markdown",
   "id": "24693dba",
   "metadata": {},
   "source": [
    "## Entrenar un red neuronal para que aprenda a reconocer\n",
    "## el teorema de pitagora a partir de 2 catetos\n"
   ]
  },
  {
   "cell_type": "code",
   "execution_count": 18,
   "id": "e0b093aa",
   "metadata": {},
   "outputs": [],
   "source": [
    "import numpy as np\n",
    "import tensorflow as tf\n",
    "from tensorflow import keras\n",
    "from keras import layers, models\n",
    "import matplotlib.pyplot as plt\n",
    "\n"
   ]
  },
  {
   "cell_type": "markdown",
   "id": "93302aeb",
   "metadata": {},
   "source": [
    "## generacion de datos "
   ]
  },
  {
   "cell_type": "code",
   "execution_count": 19,
   "id": "9715c97d",
   "metadata": {},
   "outputs": [],
   "source": [
    "def generar_datos(num_ejemplos):\n",
    "    a = np.random.uniform(0, 10, num_ejemplos)\n",
    "    b = np.random.uniform(0, 10, num_ejemplos)\n",
    "    c = np.sqrt(a**2 + b**2)\n",
    "    return np.column_stack((a, b)), c\n",
    "\n"
   ]
  },
  {
   "cell_type": "markdown",
   "id": "71e5f8ce",
   "metadata": {},
   "source": [
    "#### Generrar los Datos de Entrenamiento"
   ]
  },
  {
   "cell_type": "code",
   "execution_count": 20,
   "id": "1b66e1c4",
   "metadata": {},
   "outputs": [],
   "source": [
    "num_ejemplos = 10000\n",
    "train_data, train_labels = generar_datos(num_ejemplos)\n",
    "test_data, test_labels = generar_datos(int(num_ejemplos * 0.2))"
   ]
  },
  {
   "cell_type": "markdown",
   "id": "ff4557d5",
   "metadata": {},
   "source": [
    "### construccion del Modelo"
   ]
  },
  {
   "cell_type": "code",
   "execution_count": 21,
   "id": "40021884",
   "metadata": {},
   "outputs": [],
   "source": [
    "model = models.Sequential([\n",
    "    layers.Dense(64, activation='relu', input_shape=(2,)),\n",
    "    layers.Dense(64, activation='relu'),\n",
    "    layers.Dense(1) # El valor de la Hipotenusa \n",
    "])\n"
   ]
  },
  {
   "cell_type": "markdown",
   "id": "56ea8b99",
   "metadata": {},
   "source": [
    "### Compilacion del Modelo"
   ]
  },
  {
   "cell_type": "code",
   "execution_count": 22,
   "id": "74eae96f",
   "metadata": {},
   "outputs": [],
   "source": [
    "model.compile(optimizer='adam', loss='mse') #mean _squarter_error"
   ]
  },
  {
   "cell_type": "markdown",
   "id": "acb9c548",
   "metadata": {},
   "source": [
    "### Entrenamos el modelo Red Neuronal"
   ]
  },
  {
   "cell_type": "code",
   "execution_count": 23,
   "id": "4a39f071",
   "metadata": {},
   "outputs": [
    {
     "name": "stdout",
     "output_type": "stream",
     "text": [
      "Epoch 1/20\n",
      "\u001b[1m313/313\u001b[0m \u001b[32m━━━━━━━━━━━━━━━━━━━━\u001b[0m\u001b[37m\u001b[0m \u001b[1m1s\u001b[0m 1ms/step - loss: 2.9904 - val_loss: 0.0081\n",
      "Epoch 2/20\n",
      "\u001b[1m313/313\u001b[0m \u001b[32m━━━━━━━━━━━━━━━━━━━━\u001b[0m\u001b[37m\u001b[0m \u001b[1m0s\u001b[0m 907us/step - loss: 0.0040 - val_loss: 0.0011\n",
      "Epoch 3/20\n",
      "\u001b[1m313/313\u001b[0m \u001b[32m━━━━━━━━━━━━━━━━━━━━\u001b[0m\u001b[37m\u001b[0m \u001b[1m0s\u001b[0m 1ms/step - loss: 3.8992e-04 - val_loss: 1.2323e-04\n",
      "Epoch 4/20\n",
      "\u001b[1m313/313\u001b[0m \u001b[32m━━━━━━━━━━━━━━━━━━━━\u001b[0m\u001b[37m\u001b[0m \u001b[1m0s\u001b[0m 889us/step - loss: 1.0000e-04 - val_loss: 7.6576e-05\n",
      "Epoch 5/20\n",
      "\u001b[1m313/313\u001b[0m \u001b[32m━━━━━━━━━━━━━━━━━━━━\u001b[0m\u001b[37m\u001b[0m \u001b[1m0s\u001b[0m 876us/step - loss: 6.7080e-05 - val_loss: 5.3542e-05\n",
      "Epoch 6/20\n",
      "\u001b[1m313/313\u001b[0m \u001b[32m━━━━━━━━━━━━━━━━━━━━\u001b[0m\u001b[37m\u001b[0m \u001b[1m0s\u001b[0m 884us/step - loss: 5.0154e-05 - val_loss: 4.5266e-05\n",
      "Epoch 7/20\n",
      "\u001b[1m313/313\u001b[0m \u001b[32m━━━━━━━━━━━━━━━━━━━━\u001b[0m\u001b[37m\u001b[0m \u001b[1m0s\u001b[0m 880us/step - loss: 4.4452e-05 - val_loss: 3.6340e-05\n",
      "Epoch 8/20\n",
      "\u001b[1m313/313\u001b[0m \u001b[32m━━━━━━━━━━━━━━━━━━━━\u001b[0m\u001b[37m\u001b[0m \u001b[1m0s\u001b[0m 898us/step - loss: 3.9713e-05 - val_loss: 3.0744e-05\n",
      "Epoch 9/20\n",
      "\u001b[1m313/313\u001b[0m \u001b[32m━━━━━━━━━━━━━━━━━━━━\u001b[0m\u001b[37m\u001b[0m \u001b[1m0s\u001b[0m 880us/step - loss: 3.2867e-05 - val_loss: 3.6098e-05\n",
      "Epoch 10/20\n",
      "\u001b[1m313/313\u001b[0m \u001b[32m━━━━━━━━━━━━━━━━━━━━\u001b[0m\u001b[37m\u001b[0m \u001b[1m0s\u001b[0m 866us/step - loss: 3.1063e-05 - val_loss: 2.6968e-05\n",
      "Epoch 11/20\n",
      "\u001b[1m313/313\u001b[0m \u001b[32m━━━━━━━━━━━━━━━━━━━━\u001b[0m\u001b[37m\u001b[0m \u001b[1m0s\u001b[0m 892us/step - loss: 2.7511e-05 - val_loss: 2.4160e-05\n",
      "Epoch 12/20\n",
      "\u001b[1m313/313\u001b[0m \u001b[32m━━━━━━━━━━━━━━━━━━━━\u001b[0m\u001b[37m\u001b[0m \u001b[1m0s\u001b[0m 869us/step - loss: 2.3256e-05 - val_loss: 2.7571e-05\n",
      "Epoch 13/20\n",
      "\u001b[1m313/313\u001b[0m \u001b[32m━━━━━━━━━━━━━━━━━━━━\u001b[0m\u001b[37m\u001b[0m \u001b[1m0s\u001b[0m 885us/step - loss: 2.1114e-05 - val_loss: 3.1119e-05\n",
      "Epoch 14/20\n",
      "\u001b[1m313/313\u001b[0m \u001b[32m━━━━━━━━━━━━━━━━━━━━\u001b[0m\u001b[37m\u001b[0m \u001b[1m0s\u001b[0m 901us/step - loss: 1.7804e-05 - val_loss: 3.0663e-05\n",
      "Epoch 15/20\n",
      "\u001b[1m313/313\u001b[0m \u001b[32m━━━━━━━━━━━━━━━━━━━━\u001b[0m\u001b[37m\u001b[0m \u001b[1m0s\u001b[0m 906us/step - loss: 1.8520e-05 - val_loss: 1.3661e-05\n",
      "Epoch 16/20\n",
      "\u001b[1m313/313\u001b[0m \u001b[32m━━━━━━━━━━━━━━━━━━━━\u001b[0m\u001b[37m\u001b[0m \u001b[1m0s\u001b[0m 911us/step - loss: 1.8466e-05 - val_loss: 1.2582e-05\n",
      "Epoch 17/20\n",
      "\u001b[1m313/313\u001b[0m \u001b[32m━━━━━━━━━━━━━━━━━━━━\u001b[0m\u001b[37m\u001b[0m \u001b[1m0s\u001b[0m 895us/step - loss: 1.3059e-05 - val_loss: 1.1208e-05\n",
      "Epoch 18/20\n",
      "\u001b[1m313/313\u001b[0m \u001b[32m━━━━━━━━━━━━━━━━━━━━\u001b[0m\u001b[37m\u001b[0m \u001b[1m0s\u001b[0m 906us/step - loss: 1.4439e-05 - val_loss: 1.6469e-05\n",
      "Epoch 19/20\n",
      "\u001b[1m313/313\u001b[0m \u001b[32m━━━━━━━━━━━━━━━━━━━━\u001b[0m\u001b[37m\u001b[0m \u001b[1m0s\u001b[0m 918us/step - loss: 1.3399e-05 - val_loss: 7.0312e-06\n",
      "Epoch 20/20\n",
      "\u001b[1m313/313\u001b[0m \u001b[32m━━━━━━━━━━━━━━━━━━━━\u001b[0m\u001b[37m\u001b[0m \u001b[1m0s\u001b[0m 906us/step - loss: 2.0433e-05 - val_loss: 3.5145e-05\n"
     ]
    }
   ],
   "source": [
    "historial= model.fit(train_data, train_labels, epochs=20, batch_size=32, validation_data=(test_data, test_labels))"
   ]
  },
  {
   "cell_type": "markdown",
   "id": "42b441ab",
   "metadata": {},
   "source": [
    "## graficar historia de entrenamiento"
   ]
  },
  {
   "cell_type": "code",
   "execution_count": 24,
   "id": "f0076882",
   "metadata": {},
   "outputs": [
    {
     "data": {
      "text/plain": [
       "[<matplotlib.lines.Line2D at 0x2bf2732f4d0>]"
      ]
     },
     "execution_count": 24,
     "metadata": {},
     "output_type": "execute_result"
    },
    {
     "data": {
      "image/png": "[encoded data removed]",
      "text/plain": [
       "<Figure size 640x480 with 1 Axes>"
      ]
     },
     "metadata": {},
     "output_type": "display_data"
    }
   ],
   "source": [
    "plt.xlabel(' # Epoca')\n",
    "plt.ylabel('Magnitud de Pérdida')\n",
    "plt.plot(historial.history['loss'])\n"
   ]
  },
  {
   "cell_type": "markdown",
   "id": "0171773b",
   "metadata": {},
   "source": [
    "### Evaluacion del Modelo "
   ]
  },
  {
   "cell_type": "code",
   "execution_count": 25,
   "id": "ba836843",
   "metadata": {},
   "outputs": [
    {
     "name": "stdout",
     "output_type": "stream",
     "text": [
      "\u001b[1m63/63\u001b[0m \u001b[32m━━━━━━━━━━━━━━━━━━━━\u001b[0m\u001b[37m\u001b[0m \u001b[1m0s\u001b[0m 755us/step - loss: 3.5145e-05\n",
      "Perdida en el conjunto de prueba 3.514543641358614e-05\n"
     ]
    }
   ],
   "source": [
    "test_loss = model.evaluate(test_data, test_labels)\n",
    "print(f'Perdida en el conjunto de prueba {test_loss}')"
   ]
  },
  {
   "cell_type": "markdown",
   "id": "93432cc8",
   "metadata": {},
   "source": [
    "### Prediccion de teorema de pitagoras con otros Datos "
   ]
  },
  {
   "cell_type": "code",
   "execution_count": 26,
   "id": "f71bbb28",
   "metadata": {},
   "outputs": [
    {
     "name": "stdout",
     "output_type": "stream",
     "text": [
      "\u001b[1m1/1\u001b[0m \u001b[32m━━━━━━━━━━━━━━━━━━━━\u001b[0m\u001b[37m\u001b[0m \u001b[1m0s\u001b[0m 40ms/step\n",
      "Hipotenusa predicida [[ 5.0060115]\n",
      " [10.0063095]\n",
      " [65.08966  ]]\n"
     ]
    }
   ],
   "source": [
    "nuevos_datos = np.array([[3, 4],[6, 8], [25, 60]])\n",
    "hipotenusa_pred = model.predict(nuevos_datos)\n",
    "print(f'Hipotenusa predicida {hipotenusa_pred}')\n"
   ]
  }
 ],
 "metadata": {
  "kernelspec": {
   "display_name": "Python 3",
   "language": "python",
   "name": "python3"
  },
  "language_info": {
   "codemirror_mode": {
    "name": "ipython",
    "version": 3
   },
   "file_extension": ".py",
   "mimetype": "text/x-python",
   "name": "python",
   "nbconvert_exporter": "python",
   "pygments_lexer": "ipython3",
   "version": "3.13.6"
  }
 },
 "nbformat": 4,
 "nbformat_minor": 5
}
