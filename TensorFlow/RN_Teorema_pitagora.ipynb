{
 "cells": [
  {
   "cell_type": "markdown",
   "id": "24693dba",
   "metadata": {},
   "source": [
    "## Entrenar un red neuronal para que aprenda a reconocer\n",
    "## el teorema de pitagora a partir de 2 catetos\n"
   ]
  },
  {
   "cell_type": "code",
   "execution_count": 2,
   "id": "e0b093aa",
   "metadata": {},
   "outputs": [],
   "source": [
    "import numpy as np\n",
    "import tensorflow as tf\n",
    "from tensorflow import keras\n",
    "from keras import layers, models\n",
    "import matplotlib.pyplot as plt\n",
    "\n"
   ]
  },
  {
   "cell_type": "markdown",
   "id": "93302aeb",
   "metadata": {},
   "source": [
    "## generacion de datos "
   ]
  },
  {
   "cell_type": "code",
   "execution_count": null,
   "id": "9715c97d",
   "metadata": {},
   "outputs": [],
   "source": [
    "def generar_datos(num_ejemplos):\n",
    "    a = np.random.uniform(0, 10, num_ejemplos)\n",
    "    b = np.random.uniform(0, 10, num_ejemplos)\n",
    "    c = np.sqrt(a**2 + b**2)\n",
    "    return np.column_stack((a, b)), c\n",
    "\n"
   ]
  },
  {
   "cell_type": "markdown",
   "id": "71e5f8ce",
   "metadata": {},
   "source": [
    "#### Generrar los Datos de Entrenamiento"
   ]
  },
  {
   "cell_type": "code",
   "execution_count": 5,
   "id": "1b66e1c4",
   "metadata": {},
   "outputs": [],
   "source": [
    "num_ejemplos = 10000\n",
    "train_data, train_labels = generar_datos(num_ejemplos)\n",
    "test_data, test_labels = generar_datos(int(num_ejemplos * 0.2))"
   ]
  },
  {
   "cell_type": "markdown",
   "id": "ff4557d5",
   "metadata": {},
   "source": [
    "### construccion del Modelo"
   ]
  },
  {
   "cell_type": "code",
   "execution_count": 4,
   "id": "40021884",
   "metadata": {},
   "outputs": [
    {
     "name": "stderr",
     "output_type": "stream",
     "text": [
      "c:\\Users\\Estudiante\\AppData\\Local\\Programs\\Python\\Python313\\Lib\\site-packages\\keras\\src\\layers\\core\\dense.py:92: UserWarning: Do not pass an `input_shape`/`input_dim` argument to a layer. When using Sequential models, prefer using an `Input(shape)` object as the first layer in the model instead.\n",
      "  super().__init__(activity_regularizer=activity_regularizer, **kwargs)\n"
     ]
    }
   ],
   "source": [
    "model = models.Sequential([\n",
    "    layers.Dense(64, activation='relu', input_shape=(2,)),\n",
    "    layers.Dense(64, activation='relu'),\n",
    "    layers.Dense(1) # El valor de la Hipotenusa \n",
    "])\n"
   ]
  },
  {
   "cell_type": "markdown",
   "id": "56ea8b99",
   "metadata": {},
   "source": [
    "### Compilacion del Modelo"
   ]
  },
  {
   "cell_type": "code",
   "execution_count": 7,
   "id": "74eae96f",
   "metadata": {},
   "outputs": [],
   "source": [
    "model.compile(optimizer='adam', loss='mse') #mean _squarter_error"
   ]
  },
  {
   "cell_type": "markdown",
   "id": "acb9c548",
   "metadata": {},
   "source": [
    "### Entrenamos el modelo Red Neuronal"
   ]
  },
  {
   "cell_type": "code",
   "execution_count": 8,
   "id": "4a39f071",
   "metadata": {},
   "outputs": [
    {
     "name": "stdout",
     "output_type": "stream",
     "text": [
      "Epoch 1/20\n",
      "\u001b[1m313/313\u001b[0m \u001b[32m━━━━━━━━━━━━━━━━━━━━\u001b[0m\u001b[37m\u001b[0m \u001b[1m1s\u001b[0m 1ms/step - loss: 0.7945 - val_loss: 4.3158e-04\n",
      "Epoch 2/20\n",
      "\u001b[1m313/313\u001b[0m \u001b[32m━━━━━━━━━━━━━━━━━━━━\u001b[0m\u001b[37m\u001b[0m \u001b[1m0s\u001b[0m 927us/step - loss: 2.6089e-04 - val_loss: 1.9830e-04\n",
      "Epoch 3/20\n",
      "\u001b[1m313/313\u001b[0m \u001b[32m━━━━━━━━━━━━━━━━━━━━\u001b[0m\u001b[37m\u001b[0m \u001b[1m0s\u001b[0m 897us/step - loss: 1.5007e-04 - val_loss: 1.1806e-04\n",
      "Epoch 4/20\n",
      "\u001b[1m313/313\u001b[0m \u001b[32m━━━━━━━━━━━━━━━━━━━━\u001b[0m\u001b[37m\u001b[0m \u001b[1m0s\u001b[0m 900us/step - loss: 8.6551e-05 - val_loss: 5.8627e-05\n",
      "Epoch 5/20\n",
      "\u001b[1m313/313\u001b[0m \u001b[32m━━━━━━━━━━━━━━━━━━━━\u001b[0m\u001b[37m\u001b[0m \u001b[1m0s\u001b[0m 882us/step - loss: 5.0745e-05 - val_loss: 3.4430e-05\n",
      "Epoch 6/20\n",
      "\u001b[1m313/313\u001b[0m \u001b[32m━━━━━━━━━━━━━━━━━━━━\u001b[0m\u001b[37m\u001b[0m \u001b[1m0s\u001b[0m 921us/step - loss: 3.1609e-05 - val_loss: 2.1675e-05\n",
      "Epoch 7/20\n",
      "\u001b[1m313/313\u001b[0m \u001b[32m━━━━━━━━━━━━━━━━━━━━\u001b[0m\u001b[37m\u001b[0m \u001b[1m0s\u001b[0m 897us/step - loss: 2.2090e-05 - val_loss: 1.8091e-05\n",
      "Epoch 8/20\n",
      "\u001b[1m313/313\u001b[0m \u001b[32m━━━━━━━━━━━━━━━━━━━━\u001b[0m\u001b[37m\u001b[0m \u001b[1m0s\u001b[0m 903us/step - loss: 1.7427e-05 - val_loss: 1.2541e-05\n",
      "Epoch 9/20\n",
      "\u001b[1m313/313\u001b[0m \u001b[32m━━━━━━━━━━━━━━━━━━━━\u001b[0m\u001b[37m\u001b[0m \u001b[1m0s\u001b[0m 901us/step - loss: 1.3711e-05 - val_loss: 1.0579e-05\n",
      "Epoch 10/20\n",
      "\u001b[1m313/313\u001b[0m \u001b[32m━━━━━━━━━━━━━━━━━━━━\u001b[0m\u001b[37m\u001b[0m \u001b[1m0s\u001b[0m 885us/step - loss: 1.3198e-05 - val_loss: 2.2991e-05\n",
      "Epoch 11/20\n",
      "\u001b[1m313/313\u001b[0m \u001b[32m━━━━━━━━━━━━━━━━━━━━\u001b[0m\u001b[37m\u001b[0m \u001b[1m0s\u001b[0m 879us/step - loss: 1.0484e-05 - val_loss: 1.5458e-05\n",
      "Epoch 12/20\n",
      "\u001b[1m313/313\u001b[0m \u001b[32m━━━━━━━━━━━━━━━━━━━━\u001b[0m\u001b[37m\u001b[0m \u001b[1m0s\u001b[0m 905us/step - loss: 9.6810e-06 - val_loss: 5.2547e-06\n",
      "Epoch 13/20\n",
      "\u001b[1m313/313\u001b[0m \u001b[32m━━━━━━━━━━━━━━━━━━━━\u001b[0m\u001b[37m\u001b[0m \u001b[1m0s\u001b[0m 895us/step - loss: 7.8623e-06 - val_loss: 1.0045e-05\n",
      "Epoch 14/20\n",
      "\u001b[1m313/313\u001b[0m \u001b[32m━━━━━━━━━━━━━━━━━━━━\u001b[0m\u001b[37m\u001b[0m \u001b[1m0s\u001b[0m 900us/step - loss: 1.0308e-05 - val_loss: 2.5815e-05\n",
      "Epoch 15/20\n",
      "\u001b[1m313/313\u001b[0m \u001b[32m━━━━━━━━━━━━━━━━━━━━\u001b[0m\u001b[37m\u001b[0m \u001b[1m0s\u001b[0m 878us/step - loss: 1.1046e-05 - val_loss: 6.7778e-06\n",
      "Epoch 16/20\n",
      "\u001b[1m313/313\u001b[0m \u001b[32m━━━━━━━━━━━━━━━━━━━━\u001b[0m\u001b[37m\u001b[0m \u001b[1m0s\u001b[0m 889us/step - loss: 8.0458e-06 - val_loss: 5.8539e-06\n",
      "Epoch 17/20\n",
      "\u001b[1m313/313\u001b[0m \u001b[32m━━━━━━━━━━━━━━━━━━━━\u001b[0m\u001b[37m\u001b[0m \u001b[1m0s\u001b[0m 901us/step - loss: 9.9586e-06 - val_loss: 5.8142e-06\n",
      "Epoch 18/20\n",
      "\u001b[1m313/313\u001b[0m \u001b[32m━━━━━━━━━━━━━━━━━━━━\u001b[0m\u001b[37m\u001b[0m \u001b[1m0s\u001b[0m 876us/step - loss: 1.2737e-05 - val_loss: 2.5796e-05\n",
      "Epoch 19/20\n",
      "\u001b[1m313/313\u001b[0m \u001b[32m━━━━━━━━━━━━━━━━━━━━\u001b[0m\u001b[37m\u001b[0m \u001b[1m0s\u001b[0m 950us/step - loss: 2.4645e-05 - val_loss: 2.3661e-05\n",
      "Epoch 20/20\n",
      "\u001b[1m313/313\u001b[0m \u001b[32m━━━━━━━━━━━━━━━━━━━━\u001b[0m\u001b[37m\u001b[0m \u001b[1m0s\u001b[0m 874us/step - loss: 2.4918e-04 - val_loss: 7.4176e-06\n"
     ]
    }
   ],
   "source": [
    "historial= model.fit(train_data, train_labels, epochs=20, batch_size=32, validation_data=(test_data, test_labels))"
   ]
  },
  {
   "cell_type": "markdown",
   "id": "42b441ab",
   "metadata": {},
   "source": [
    "## graficar historia de entrenamiento"
   ]
  },
  {
   "cell_type": "code",
   "execution_count": 9,
   "id": "f0076882",
   "metadata": {},
   "outputs": [
    {
     "data": {
      "text/plain": [
       "[<matplotlib.lines.Line2D at 0x2bf25605310>]"
      ]
     },
     "execution_count": 9,
     "metadata": {},
     "output_type": "execute_result"
    },
    {
     "data": {
      "image/png": "[encoded data removed]",
      "text/plain": [
       "<Figure size 640x480 with 1 Axes>"
      ]
     },
     "metadata": {},
     "output_type": "display_data"
    }
   ],
   "source": [
    "plt.xlabel(' # Epoca')\n",
    "plt.ylabel('Magnitud de Pérdida')\n",
    "plt.plot(historial.history['loss'])\n"
   ]
  },
  {
   "cell_type": "markdown",
   "id": "0171773b",
   "metadata": {},
   "source": [
    "### Evaluacion del Modelo "
   ]
  },
  {
   "cell_type": "code",
   "execution_count": 12,
   "id": "ba836843",
   "metadata": {},
   "outputs": [
    {
     "name": "stdout",
     "output_type": "stream",
     "text": [
      "\u001b[1m63/63\u001b[0m \u001b[32m━━━━━━━━━━━━━━━━━━━━\u001b[0m\u001b[37m\u001b[0m \u001b[1m0s\u001b[0m 777us/step - loss: 7.4176e-06\n",
      "Perdida en el conjunto de prueba 7.417568212986225e-06\n"
     ]
    }
   ],
   "source": [
    "test_loss = model.evaluate(test_data, test_labels)\n",
    "print(f'Perdida en el conjunto de prueba {test_loss}')"
   ]
  },
  {
   "cell_type": "markdown",
   "id": "93432cc8",
   "metadata": {},
   "source": [
    "### Prediccion de teorema de pitagoras con otros Datos "
   ]
  },
  {
   "cell_type": "code",
   "execution_count": 14,
   "id": "f71bbb28",
   "metadata": {},
   "outputs": [
    {
     "name": "stdout",
     "output_type": "stream",
     "text": [
      "\u001b[1m1/1\u001b[0m \u001b[32m━━━━━━━━━━━━━━━━━━━━\u001b[0m\u001b[37m\u001b[0m \u001b[1m0s\u001b[0m 52ms/step\n",
      "Hipotenusa predicida [[ 5.0011263]\n",
      " [10.001489 ]\n",
      " [64.70392  ]]\n"
     ]
    }
   ],
   "source": [
    "nuevos_datos = np.array([[3, 4],[6, 8], [25, 60]])\n",
    "hipotenusa_pred = model.predict(nuevos_datos)\n",
    "print(f'Hipotenusa predicida {hipotenusa_pred}')"
   ]
  }
 ],
 "metadata": {
  "kernelspec": {
   "display_name": "Python 3",
   "language": "python",
   "name": "python3"
  },
  "language_info": {
   "codemirror_mode": {
    "name": "ipython",
    "version": 3
   },
   "file_extension": ".py",
   "mimetype": "text/x-python",
   "name": "python",
   "nbconvert_exporter": "python",
   "pygments_lexer": "ipython3",
   "version": "3.13.6"
  }
 },
 "nbformat": 4,
 "nbformat_minor": 5
}
